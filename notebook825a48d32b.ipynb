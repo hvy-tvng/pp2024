{
 "cells": [
  {
   "cell_type": "markdown",
   "id": "5261ce2f",
   "metadata": {
    "papermill": {
     "duration": 0.009874,
     "end_time": "2025-01-04T15:40:43.158336",
     "exception": false,
     "start_time": "2025-01-04T15:40:43.148462",
     "status": "completed"
    },
    "tags": []
   },
   "source": [
    "##                               Speech Emotion Recognition"
   ]
  },
  {
   "cell_type": "code",
   "execution_count": 1,
   "id": "0a238e91",
   "metadata": {
    "_cell_guid": "b1076dfc-b9ad-4769-8c92-a6c4dae69d19",
    "_uuid": "8f2839f25d086af736a60e9eeb907d3b93b6e0e5",
    "execution": {
     "iopub.execute_input": "2025-01-04T15:40:43.178515Z",
     "iopub.status.busy": "2025-01-04T15:40:43.178159Z",
     "iopub.status.idle": "2025-01-04T15:40:43.542890Z",
     "shell.execute_reply": "2025-01-04T15:40:43.542077Z"
    },
    "papermill": {
     "duration": 0.376535,
     "end_time": "2025-01-04T15:40:43.544733",
     "exception": false,
     "start_time": "2025-01-04T15:40:43.168198",
     "status": "completed"
    },
    "tags": []
   },
   "outputs": [],
   "source": [
    "import numpy as np \n",
    "import pandas as pd \n",
    "import os"
   ]
  },
  {
   "cell_type": "markdown",
   "id": "c04874d5",
   "metadata": {
    "papermill": {
     "duration": 0.00847,
     "end_time": "2025-01-04T15:40:43.562403",
     "exception": false,
     "start_time": "2025-01-04T15:40:43.553933",
     "status": "completed"
    },
    "tags": []
   },
   "source": [
    "## RAVDESS Dataset\n",
    "* #### The Ryerson Audio-Visual Database of Emotional Speech and Song (RAVDESS) contains 7,356 files\n",
    "* #### The database contains 24 professional actors (12 female, 12 male), saying a statement  in 8 emotions which includes (neutral, calm, happy, sad, angry, fearful, surprise, and disgust), 2 times for each emotion (one normal, other strong)\n",
    "\n",
    "\n",
    "### RAVDESS file_name \n",
    "\n",
    "* ##### Modality (01 = full-AV, 02 = video-only, 03 = audio-only).\n",
    "* ##### Vocal channel (01 = speech, 02 = song).\n",
    "* ##### Emotion (01 = neutral, 02 = calm, 03 = happy, 04 = sad, 05 = angry, 06 = fearful, 07 = disgust, 08 = surprised).\n",
    "* ##### Emotional intensity (01 = normal, 02 = strong). NOTE: There is no strong intensity for the 'neutral' emotion.\n",
    "* ##### Statement (01 = \"Kids are talking by the door\", 02 = \"Dogs are sitting by the door\").\n",
    "* ##### Repetition (01 = 1st repetition, 02 = 2nd repetition).\n",
    "* ##### Actor (01 to 24. Odd numbered actors are male, even numbered actors are female)."
   ]
  },
  {
   "cell_type": "code",
   "execution_count": 2,
   "id": "7cfe707e",
   "metadata": {
    "execution": {
     "iopub.execute_input": "2025-01-04T15:40:43.581509Z",
     "iopub.status.busy": "2025-01-04T15:40:43.580958Z",
     "iopub.status.idle": "2025-01-04T15:40:43.584885Z",
     "shell.execute_reply": "2025-01-04T15:40:43.584076Z"
    },
    "papermill": {
     "duration": 0.015236,
     "end_time": "2025-01-04T15:40:43.586452",
     "exception": false,
     "start_time": "2025-01-04T15:40:43.571216",
     "status": "completed"
    },
    "tags": []
   },
   "outputs": [],
   "source": [
    "## path to RAVDESS data\n",
    "rav_path = '/kaggle/input/ravdess-emotional-speech-audio'"
   ]
  },
  {
   "cell_type": "code",
   "execution_count": 3,
   "id": "bcb17503",
   "metadata": {
    "execution": {
     "iopub.execute_input": "2025-01-04T15:40:43.606108Z",
     "iopub.status.busy": "2025-01-04T15:40:43.605707Z",
     "iopub.status.idle": "2025-01-04T15:40:43.609811Z",
     "shell.execute_reply": "2025-01-04T15:40:43.608962Z"
    },
    "papermill": {
     "duration": 0.015902,
     "end_time": "2025-01-04T15:40:43.611349",
     "exception": false,
     "start_time": "2025-01-04T15:40:43.595447",
     "status": "completed"
    },
    "tags": []
   },
   "outputs": [],
   "source": [
    "#label map for RAVDESS dataset which maps numerical value to emotion\n",
    "label_map_ravdess = {\n",
    "    '01' : 'neutral', '03' : 'happy', '04' : 'sad', '05' : 'angry', '08' : 'surprised'\n",
    "}"
   ]
  },
  {
   "cell_type": "code",
   "execution_count": 4,
   "id": "89e85f6e",
   "metadata": {
    "execution": {
     "iopub.execute_input": "2025-01-04T15:40:43.630534Z",
     "iopub.status.busy": "2025-01-04T15:40:43.630180Z",
     "iopub.status.idle": "2025-01-04T15:40:43.763786Z",
     "shell.execute_reply": "2025-01-04T15:40:43.762679Z"
    },
    "papermill": {
     "duration": 0.145532,
     "end_time": "2025-01-04T15:40:43.765887",
     "exception": false,
     "start_time": "2025-01-04T15:40:43.620355",
     "status": "completed"
    },
    "tags": []
   },
   "outputs": [],
   "source": [
    "ravdess_file_paths = []\n",
    "ravdess_labels = []\n",
    "\n",
    "for actor in os.listdir(rav_path):\n",
    "    # Path for one actor\n",
    "    actor_path = os.path.join(rav_path, actor)\n",
    "    # One actor contains 60 files\n",
    "    for file in os.listdir(actor_path):\n",
    "        if file.startswith('0'):\n",
    "            emotion = file[6:8]  # Emotion is at index [6:8]\n",
    "            # Exclude emotions '06' and '07'\n",
    "            if emotion not in ['02', '06', '07']:\n",
    "                file_path = os.path.join(actor_path, file)\n",
    "                # Store the file paths in the list\n",
    "                ravdess_file_paths.append(file_path)\n",
    "                # Store the emotion corresponding to that file\n",
    "                ravdess_labels.append(label_map_ravdess[emotion])"
   ]
  },
  {
   "cell_type": "code",
   "execution_count": 5,
   "id": "98659b07",
   "metadata": {
    "execution": {
     "iopub.execute_input": "2025-01-04T15:40:43.785774Z",
     "iopub.status.busy": "2025-01-04T15:40:43.785435Z",
     "iopub.status.idle": "2025-01-04T15:40:43.791400Z",
     "shell.execute_reply": "2025-01-04T15:40:43.790282Z"
    },
    "papermill": {
     "duration": 0.017403,
     "end_time": "2025-01-04T15:40:43.792803",
     "exception": false,
     "start_time": "2025-01-04T15:40:43.775400",
     "status": "completed"
    },
    "tags": []
   },
   "outputs": [
    {
     "name": "stdout",
     "output_type": "stream",
     "text": [
      "Total file paths : 864\n",
      "Total labels : 864\n"
     ]
    }
   ],
   "source": [
    "## lets check the length of ravdess files\n",
    "print(f\"Total file paths : {len(ravdess_file_paths)}\")\n",
    "print(f\"Total labels : {len(ravdess_labels)}\")"
   ]
  },
  {
   "cell_type": "code",
   "execution_count": 6,
   "id": "da7b93ab",
   "metadata": {
    "execution": {
     "iopub.execute_input": "2025-01-04T15:40:43.812212Z",
     "iopub.status.busy": "2025-01-04T15:40:43.811777Z",
     "iopub.status.idle": "2025-01-04T15:40:43.822504Z",
     "shell.execute_reply": "2025-01-04T15:40:43.821450Z"
    },
    "papermill": {
     "duration": 0.022175,
     "end_time": "2025-01-04T15:40:43.824204",
     "exception": false,
     "start_time": "2025-01-04T15:40:43.802029",
     "status": "completed"
    },
    "tags": []
   },
   "outputs": [
    {
     "data": {
      "text/plain": [
       "864"
      ]
     },
     "execution_count": 6,
     "metadata": {},
     "output_type": "execute_result"
    }
   ],
   "source": [
    "#pandas dataframe for RAVDESS data\n",
    "rav_data = pd.DataFrame({\n",
    "    'paths' : ravdess_file_paths,\n",
    "    'emotions' : ravdess_labels\n",
    "})\n",
    "len(rav_data)"
   ]
  },
  {
   "cell_type": "markdown",
   "id": "c9b3143e",
   "metadata": {
    "papermill": {
     "duration": 0.008852,
     "end_time": "2025-01-04T15:40:43.842423",
     "exception": false,
     "start_time": "2025-01-04T15:40:43.833571",
     "status": "completed"
    },
    "tags": []
   },
   "source": [
    "## TESS Dataset\n",
    "\n",
    "#### There are a set of 200 target words were spoken in the carrier phrase \"Say the word _' by two actresses (aged 26 and 64 years) and recordings were made of the set portraying each of seven emotions (anger, disgust, fear, happiness, pleasant surprise, sadness, and neutral). There are 2800 data points (audio files) in total.\n",
    "\n",
    "#### 200 words * 2 actresses * for 7 emotions = 2800 data points"
   ]
  },
  {
   "cell_type": "code",
   "execution_count": 7,
   "id": "9e794b47",
   "metadata": {
    "execution": {
     "iopub.execute_input": "2025-01-04T15:40:43.861936Z",
     "iopub.status.busy": "2025-01-04T15:40:43.861562Z",
     "iopub.status.idle": "2025-01-04T15:40:43.865322Z",
     "shell.execute_reply": "2025-01-04T15:40:43.864388Z"
    },
    "papermill": {
     "duration": 0.015245,
     "end_time": "2025-01-04T15:40:43.866851",
     "exception": false,
     "start_time": "2025-01-04T15:40:43.851606",
     "status": "completed"
    },
    "tags": []
   },
   "outputs": [],
   "source": [
    "## path to TESS data\n",
    "tess_path = '/kaggle/input/toronto-emotional-speech-set-tess/TESS Toronto emotional speech set data'"
   ]
  },
  {
   "cell_type": "code",
   "execution_count": 8,
   "id": "0a42d1c7",
   "metadata": {
    "execution": {
     "iopub.execute_input": "2025-01-04T15:40:43.886277Z",
     "iopub.status.busy": "2025-01-04T15:40:43.885902Z",
     "iopub.status.idle": "2025-01-04T15:40:43.992098Z",
     "shell.execute_reply": "2025-01-04T15:40:43.991062Z"
    },
    "papermill": {
     "duration": 0.117871,
     "end_time": "2025-01-04T15:40:43.994033",
     "exception": false,
     "start_time": "2025-01-04T15:40:43.876162",
     "status": "completed"
    },
    "tags": []
   },
   "outputs": [],
   "source": [
    "tess_file_paths = []\n",
    "tess_labels = []\n",
    "\n",
    "for folder in os.listdir(tess_path):\n",
    "    folder_path = os.path.join(tess_path, folder)\n",
    "    label = folder[4:] ## folder = OAF_Fear (take from index 4 to last)\n",
    "    label = label.lower() ## converting the string to lower\n",
    "    \n",
    "    for file in os.listdir(folder_path):\n",
    "        file_path = os.path.join(folder_path, file)\n",
    "        ## storing this file path in list\n",
    "        tess_file_paths.append(file_path)\n",
    "        ## storing the corresponding emotion\n",
    "        tess_labels.append(label) "
   ]
  },
  {
   "cell_type": "code",
   "execution_count": 9,
   "id": "9ce0ff89",
   "metadata": {
    "execution": {
     "iopub.execute_input": "2025-01-04T15:40:44.013135Z",
     "iopub.status.busy": "2025-01-04T15:40:44.012742Z",
     "iopub.status.idle": "2025-01-04T15:40:44.017747Z",
     "shell.execute_reply": "2025-01-04T15:40:44.016492Z"
    },
    "papermill": {
     "duration": 0.016216,
     "end_time": "2025-01-04T15:40:44.019308",
     "exception": false,
     "start_time": "2025-01-04T15:40:44.003092",
     "status": "completed"
    },
    "tags": []
   },
   "outputs": [
    {
     "name": "stdout",
     "output_type": "stream",
     "text": [
      "Total file from TESS : 2800\n",
      "Total emotions from TESS : 2800\n"
     ]
    }
   ],
   "source": [
    "##  check the length of how many file collected from TESS dataset\n",
    "print(f\"Total file from TESS : {len(tess_file_paths)}\")\n",
    "print(f\"Total emotions from TESS : {len(tess_labels)}\")"
   ]
  },
  {
   "cell_type": "code",
   "execution_count": 10,
   "id": "a15b22b4",
   "metadata": {
    "execution": {
     "iopub.execute_input": "2025-01-04T15:40:44.038469Z",
     "iopub.status.busy": "2025-01-04T15:40:44.038118Z",
     "iopub.status.idle": "2025-01-04T15:40:44.054348Z",
     "shell.execute_reply": "2025-01-04T15:40:44.053370Z"
    },
    "papermill": {
     "duration": 0.027547,
     "end_time": "2025-01-04T15:40:44.056029",
     "exception": false,
     "start_time": "2025-01-04T15:40:44.028482",
     "status": "completed"
    },
    "tags": []
   },
   "outputs": [
    {
     "data": {
      "text/html": [
       "<div>\n",
       "<style scoped>\n",
       "    .dataframe tbody tr th:only-of-type {\n",
       "        vertical-align: middle;\n",
       "    }\n",
       "\n",
       "    .dataframe tbody tr th {\n",
       "        vertical-align: top;\n",
       "    }\n",
       "\n",
       "    .dataframe thead th {\n",
       "        text-align: right;\n",
       "    }\n",
       "</style>\n",
       "<table border=\"1\" class=\"dataframe\">\n",
       "  <thead>\n",
       "    <tr style=\"text-align: right;\">\n",
       "      <th></th>\n",
       "      <th>paths</th>\n",
       "      <th>emotions</th>\n",
       "    </tr>\n",
       "  </thead>\n",
       "  <tbody>\n",
       "    <tr>\n",
       "      <th>0</th>\n",
       "      <td>/kaggle/input/toronto-emotional-speech-set-tes...</td>\n",
       "      <td>fear</td>\n",
       "    </tr>\n",
       "    <tr>\n",
       "      <th>1</th>\n",
       "      <td>/kaggle/input/toronto-emotional-speech-set-tes...</td>\n",
       "      <td>fear</td>\n",
       "    </tr>\n",
       "    <tr>\n",
       "      <th>2</th>\n",
       "      <td>/kaggle/input/toronto-emotional-speech-set-tes...</td>\n",
       "      <td>fear</td>\n",
       "    </tr>\n",
       "    <tr>\n",
       "      <th>3</th>\n",
       "      <td>/kaggle/input/toronto-emotional-speech-set-tes...</td>\n",
       "      <td>fear</td>\n",
       "    </tr>\n",
       "    <tr>\n",
       "      <th>4</th>\n",
       "      <td>/kaggle/input/toronto-emotional-speech-set-tes...</td>\n",
       "      <td>fear</td>\n",
       "    </tr>\n",
       "  </tbody>\n",
       "</table>\n",
       "</div>"
      ],
      "text/plain": [
       "                                               paths emotions\n",
       "0  /kaggle/input/toronto-emotional-speech-set-tes...     fear\n",
       "1  /kaggle/input/toronto-emotional-speech-set-tes...     fear\n",
       "2  /kaggle/input/toronto-emotional-speech-set-tes...     fear\n",
       "3  /kaggle/input/toronto-emotional-speech-set-tes...     fear\n",
       "4  /kaggle/input/toronto-emotional-speech-set-tes...     fear"
      ]
     },
     "execution_count": 10,
     "metadata": {},
     "output_type": "execute_result"
    }
   ],
   "source": [
    "#a pandas dataframe for tess data also\n",
    "tess_data = pd.DataFrame({\n",
    "    'paths' : tess_file_paths,\n",
    "    'emotions' : tess_labels\n",
    "})\n",
    "\n",
    "tess_data.head()"
   ]
  },
  {
   "cell_type": "markdown",
   "id": "5b658ea5",
   "metadata": {
    "papermill": {
     "duration": 0.008944,
     "end_time": "2025-01-04T15:40:44.074410",
     "exception": false,
     "start_time": "2025-01-04T15:40:44.065466",
     "status": "completed"
    },
    "tags": []
   },
   "source": [
    "## Make same unique emotions in both dataset so we can combine them"
   ]
  },
  {
   "cell_type": "code",
   "execution_count": 11,
   "id": "8eacb86b",
   "metadata": {
    "execution": {
     "iopub.execute_input": "2025-01-04T15:40:44.094469Z",
     "iopub.status.busy": "2025-01-04T15:40:44.094082Z",
     "iopub.status.idle": "2025-01-04T15:40:44.104244Z",
     "shell.execute_reply": "2025-01-04T15:40:44.103379Z"
    },
    "papermill": {
     "duration": 0.022164,
     "end_time": "2025-01-04T15:40:44.105766",
     "exception": false,
     "start_time": "2025-01-04T15:40:44.083602",
     "status": "completed"
    },
    "tags": []
   },
   "outputs": [
    {
     "data": {
      "text/plain": [
       "array(['surprised', 'neutral', 'sad', 'happy', 'angry'], dtype=object)"
      ]
     },
     "execution_count": 11,
     "metadata": {},
     "output_type": "execute_result"
    }
   ],
   "source": [
    "## unique emotions in REVDESS dataset\n",
    "rav_data['emotions'].unique()"
   ]
  },
  {
   "cell_type": "code",
   "execution_count": 12,
   "id": "418346a5",
   "metadata": {
    "execution": {
     "iopub.execute_input": "2025-01-04T15:40:44.125684Z",
     "iopub.status.busy": "2025-01-04T15:40:44.125325Z",
     "iopub.status.idle": "2025-01-04T15:40:44.131614Z",
     "shell.execute_reply": "2025-01-04T15:40:44.130657Z"
    },
    "papermill": {
     "duration": 0.018409,
     "end_time": "2025-01-04T15:40:44.133599",
     "exception": false,
     "start_time": "2025-01-04T15:40:44.115190",
     "status": "completed"
    },
    "tags": []
   },
   "outputs": [
    {
     "data": {
      "text/plain": [
       "array(['fear', 'angry', 'disgust', 'neutral', 'sad', 'pleasant_surprise',\n",
       "       'happy', 'pleasant_surprised'], dtype=object)"
      ]
     },
     "execution_count": 12,
     "metadata": {},
     "output_type": "execute_result"
    }
   ],
   "source": [
    "## unique emotions in TESS dataset\n",
    "tess_data['emotions'].unique()"
   ]
  },
  {
   "cell_type": "code",
   "execution_count": 13,
   "id": "d218f5d1",
   "metadata": {
    "execution": {
     "iopub.execute_input": "2025-01-04T15:40:44.155693Z",
     "iopub.status.busy": "2025-01-04T15:40:44.155353Z",
     "iopub.status.idle": "2025-01-04T15:40:44.165008Z",
     "shell.execute_reply": "2025-01-04T15:40:44.164073Z"
    },
    "papermill": {
     "duration": 0.021654,
     "end_time": "2025-01-04T15:40:44.166612",
     "exception": false,
     "start_time": "2025-01-04T15:40:44.144958",
     "status": "completed"
    },
    "tags": []
   },
   "outputs": [
    {
     "data": {
      "text/plain": [
       "array(['fearful', 'angry', 'disguist', 'neutral', 'sad', 'surprised',\n",
       "       'happy'], dtype=object)"
      ]
     },
     "execution_count": 13,
     "metadata": {},
     "output_type": "execute_result"
    }
   ],
   "source": [
    "tess_data['emotions'] = tess_data['emotions'].replace({\n",
    "    'pleasant_surprise' : 'surprised',\n",
    "    'pleasant_surprised' : 'surprised',\n",
    "    'fear' : 'fearful',\n",
    "    'disgust' : 'disguist'\n",
    "})\n",
    "\n",
    "## now check unique emotions\n",
    "tess_data['emotions'].unique()"
   ]
  },
  {
   "cell_type": "markdown",
   "id": "dbf823da",
   "metadata": {
    "papermill": {
     "duration": 0.009502,
     "end_time": "2025-01-04T15:40:44.186336",
     "exception": false,
     "start_time": "2025-01-04T15:40:44.176834",
     "status": "completed"
    },
    "tags": []
   },
   "source": [
    "## Combining both RAVDESS and TESS dataframes"
   ]
  },
  {
   "cell_type": "code",
   "execution_count": 14,
   "id": "72e88ef9",
   "metadata": {
    "execution": {
     "iopub.execute_input": "2025-01-04T15:40:44.206733Z",
     "iopub.status.busy": "2025-01-04T15:40:44.206409Z",
     "iopub.status.idle": "2025-01-04T15:40:44.217248Z",
     "shell.execute_reply": "2025-01-04T15:40:44.216217Z"
    },
    "papermill": {
     "duration": 0.023081,
     "end_time": "2025-01-04T15:40:44.218966",
     "exception": false,
     "start_time": "2025-01-04T15:40:44.195885",
     "status": "completed"
    },
    "tags": []
   },
   "outputs": [
    {
     "data": {
      "text/html": [
       "<div>\n",
       "<style scoped>\n",
       "    .dataframe tbody tr th:only-of-type {\n",
       "        vertical-align: middle;\n",
       "    }\n",
       "\n",
       "    .dataframe tbody tr th {\n",
       "        vertical-align: top;\n",
       "    }\n",
       "\n",
       "    .dataframe thead th {\n",
       "        text-align: right;\n",
       "    }\n",
       "</style>\n",
       "<table border=\"1\" class=\"dataframe\">\n",
       "  <thead>\n",
       "    <tr style=\"text-align: right;\">\n",
       "      <th></th>\n",
       "      <th>paths</th>\n",
       "      <th>emotions</th>\n",
       "    </tr>\n",
       "  </thead>\n",
       "  <tbody>\n",
       "    <tr>\n",
       "      <th>0</th>\n",
       "      <td>/kaggle/input/ravdess-emotional-speech-audio/A...</td>\n",
       "      <td>surprised</td>\n",
       "    </tr>\n",
       "    <tr>\n",
       "      <th>1</th>\n",
       "      <td>/kaggle/input/ravdess-emotional-speech-audio/A...</td>\n",
       "      <td>neutral</td>\n",
       "    </tr>\n",
       "    <tr>\n",
       "      <th>2</th>\n",
       "      <td>/kaggle/input/ravdess-emotional-speech-audio/A...</td>\n",
       "      <td>neutral</td>\n",
       "    </tr>\n",
       "    <tr>\n",
       "      <th>3</th>\n",
       "      <td>/kaggle/input/ravdess-emotional-speech-audio/A...</td>\n",
       "      <td>sad</td>\n",
       "    </tr>\n",
       "    <tr>\n",
       "      <th>4</th>\n",
       "      <td>/kaggle/input/ravdess-emotional-speech-audio/A...</td>\n",
       "      <td>neutral</td>\n",
       "    </tr>\n",
       "  </tbody>\n",
       "</table>\n",
       "</div>"
      ],
      "text/plain": [
       "                                               paths   emotions\n",
       "0  /kaggle/input/ravdess-emotional-speech-audio/A...  surprised\n",
       "1  /kaggle/input/ravdess-emotional-speech-audio/A...    neutral\n",
       "2  /kaggle/input/ravdess-emotional-speech-audio/A...    neutral\n",
       "3  /kaggle/input/ravdess-emotional-speech-audio/A...        sad\n",
       "4  /kaggle/input/ravdess-emotional-speech-audio/A...    neutral"
      ]
     },
     "execution_count": 14,
     "metadata": {},
     "output_type": "execute_result"
    }
   ],
   "source": [
    "emotion_data = pd.concat([rav_data, tess_data], axis=0).reset_index(drop=True) ## reassigns the index so it’s sequential from 0, without adding an extra index column.\n",
    "emotion_data.head()"
   ]
  },
  {
   "cell_type": "code",
   "execution_count": 15,
   "id": "f94de057",
   "metadata": {
    "execution": {
     "iopub.execute_input": "2025-01-04T15:40:44.240459Z",
     "iopub.status.busy": "2025-01-04T15:40:44.240104Z",
     "iopub.status.idle": "2025-01-04T15:40:44.253907Z",
     "shell.execute_reply": "2025-01-04T15:40:44.253060Z"
    },
    "papermill": {
     "duration": 0.026173,
     "end_time": "2025-01-04T15:40:44.255639",
     "exception": false,
     "start_time": "2025-01-04T15:40:44.229466",
     "status": "completed"
    },
    "tags": []
   },
   "outputs": [],
   "source": [
    "# Drop rows where the emotion is 'disgust' using the drop() method\n",
    "emotion_data = emotion_data.drop(emotion_data[emotion_data['emotions'] == 'disguist'].index)\n",
    "# Drop rows where the emotion is 'disgust' using the drop() method\n",
    "emotion_data = emotion_data.drop(emotion_data[emotion_data['emotions'] == 'fearful'].index)\n"
   ]
  },
  {
   "cell_type": "code",
   "execution_count": 16,
   "id": "55dcf3f6",
   "metadata": {
    "execution": {
     "iopub.execute_input": "2025-01-04T15:40:44.276199Z",
     "iopub.status.busy": "2025-01-04T15:40:44.275816Z",
     "iopub.status.idle": "2025-01-04T15:40:44.280519Z",
     "shell.execute_reply": "2025-01-04T15:40:44.279394Z"
    },
    "papermill": {
     "duration": 0.016948,
     "end_time": "2025-01-04T15:40:44.282341",
     "exception": false,
     "start_time": "2025-01-04T15:40:44.265393",
     "status": "completed"
    },
    "tags": []
   },
   "outputs": [
    {
     "name": "stdout",
     "output_type": "stream",
     "text": [
      "Length of combined data : 2864\n"
     ]
    }
   ],
   "source": [
    "print(f\"Length of combined data : {emotion_data.shape[0]}\")"
   ]
  },
  {
   "cell_type": "code",
   "execution_count": 17,
   "id": "7031b843",
   "metadata": {
    "execution": {
     "iopub.execute_input": "2025-01-04T15:40:44.303732Z",
     "iopub.status.busy": "2025-01-04T15:40:44.303371Z",
     "iopub.status.idle": "2025-01-04T15:40:44.309232Z",
     "shell.execute_reply": "2025-01-04T15:40:44.308164Z"
    },
    "papermill": {
     "duration": 0.018121,
     "end_time": "2025-01-04T15:40:44.310741",
     "exception": false,
     "start_time": "2025-01-04T15:40:44.292620",
     "status": "completed"
    },
    "tags": []
   },
   "outputs": [
    {
     "name": "stdout",
     "output_type": "stream",
     "text": [
      "Number of unique emotions : 5\n",
      "['surprised' 'neutral' 'sad' 'happy' 'angry']\n"
     ]
    }
   ],
   "source": [
    "unique_emotions = emotion_data['emotions'].unique()\n",
    "print(f\"Number of unique emotions : {len(unique_emotions)}\")\n",
    "print(unique_emotions)"
   ]
  },
  {
   "cell_type": "markdown",
   "id": "3932e550",
   "metadata": {
    "papermill": {
     "duration": 0.009557,
     "end_time": "2025-01-04T15:40:44.330494",
     "exception": false,
     "start_time": "2025-01-04T15:40:44.320937",
     "status": "completed"
    },
    "tags": []
   },
   "source": [
    "## Extracting features from audio file paths"
   ]
  },
  {
   "cell_type": "code",
   "execution_count": 18,
   "id": "52bfa6de",
   "metadata": {
    "execution": {
     "iopub.execute_input": "2025-01-04T15:40:44.354856Z",
     "iopub.status.busy": "2025-01-04T15:40:44.354512Z",
     "iopub.status.idle": "2025-01-04T15:40:44.366487Z",
     "shell.execute_reply": "2025-01-04T15:40:44.365589Z"
    },
    "papermill": {
     "duration": 0.027357,
     "end_time": "2025-01-04T15:40:44.368254",
     "exception": false,
     "start_time": "2025-01-04T15:40:44.340897",
     "status": "completed"
    },
    "tags": []
   },
   "outputs": [],
   "source": [
    "import librosa"
   ]
  },
  {
   "cell_type": "code",
   "execution_count": 19,
   "id": "2079a040",
   "metadata": {
    "execution": {
     "iopub.execute_input": "2025-01-04T15:40:44.389678Z",
     "iopub.status.busy": "2025-01-04T15:40:44.389338Z",
     "iopub.status.idle": "2025-01-04T15:40:44.395287Z",
     "shell.execute_reply": "2025-01-04T15:40:44.394297Z"
    },
    "papermill": {
     "duration": 0.018759,
     "end_time": "2025-01-04T15:40:44.397133",
     "exception": false,
     "start_time": "2025-01-04T15:40:44.378374",
     "status": "completed"
    },
    "tags": []
   },
   "outputs": [
    {
     "data": {
      "text/plain": [
       "'/kaggle/input/ravdess-emotional-speech-audio/Actor_02/03-01-08-01-01-01-02.wav'"
      ]
     },
     "execution_count": 19,
     "metadata": {},
     "output_type": "execute_result"
    }
   ],
   "source": [
    "emotion_data.loc[0, 'paths']"
   ]
  },
  {
   "cell_type": "code",
   "execution_count": 20,
   "id": "147bae7b",
   "metadata": {
    "execution": {
     "iopub.execute_input": "2025-01-04T15:40:44.419076Z",
     "iopub.status.busy": "2025-01-04T15:40:44.418700Z",
     "iopub.status.idle": "2025-01-04T15:42:50.110674Z",
     "shell.execute_reply": "2025-01-04T15:42:50.109453Z"
    },
    "papermill": {
     "duration": 125.706057,
     "end_time": "2025-01-04T15:42:50.113725",
     "exception": false,
     "start_time": "2025-01-04T15:40:44.407668",
     "status": "completed"
    },
    "tags": []
   },
   "outputs": [],
   "source": [
    "# Reset the index to ensure it's sequential\n",
    "emotion_data = emotion_data.reset_index(drop=True)\n",
    "\n",
    "mel_features = []\n",
    "mfcc_features = []\n",
    "\n",
    "for i in range(len(emotion_data)):\n",
    "    try:\n",
    "        # Load the audio file\n",
    "        data, sample_rate = librosa.load(emotion_data.loc[i, 'paths'], sr=None)  # Preserve original sampling rate\n",
    "        # Extract MEL features\n",
    "        mel_spec = librosa.feature.melspectrogram(y=data, sr=sample_rate, n_mels=128, fmax=8000)\n",
    "        mel_features.append(np.mean(mel_spec.T, axis=0))\n",
    "        # Extract MFCC features\n",
    "        mfcc = librosa.feature.mfcc(y=data, sr=sample_rate, n_mfcc=13)\n",
    "        mfcc_features.append(np.mean(mfcc.T, axis=0))\n",
    "    except Exception as e:\n",
    "        print(f\"Error processing file at index {i}, path: {emotion_data.loc[i, 'paths']} - {e}\")\n"
   ]
  },
  {
   "cell_type": "code",
   "execution_count": 21,
   "id": "1880e3ab",
   "metadata": {
    "execution": {
     "iopub.execute_input": "2025-01-04T15:42:50.158709Z",
     "iopub.status.busy": "2025-01-04T15:42:50.157912Z",
     "iopub.status.idle": "2025-01-04T15:42:50.175921Z",
     "shell.execute_reply": "2025-01-04T15:42:50.173888Z"
    },
    "papermill": {
     "duration": 0.043641,
     "end_time": "2025-01-04T15:42:50.178879",
     "exception": false,
     "start_time": "2025-01-04T15:42:50.135238",
     "status": "completed"
    },
    "tags": []
   },
   "outputs": [
    {
     "name": "stdout",
     "output_type": "stream",
     "text": [
      "Shape of MEL features : (2864, 128)\n",
      "Shape of MFCC features : (2864, 13)\n"
     ]
    }
   ],
   "source": [
    "#convert both mel_features and mfcc_features list to arrays\n",
    "mel_features_array = np.array(mel_features)\n",
    "mfcc_features_array = np.array(mfcc_features)\n",
    "\n",
    "\n",
    "print(f\"Shape of MEL features : {mel_features_array.shape}\")\n",
    "print(f\"Shape of MFCC features : {mfcc_features_array.shape}\")"
   ]
  },
  {
   "cell_type": "markdown",
   "id": "4ab17b93",
   "metadata": {
    "papermill": {
     "duration": 0.018266,
     "end_time": "2025-01-04T15:42:50.216031",
     "exception": false,
     "start_time": "2025-01-04T15:42:50.197765",
     "status": "completed"
    },
    "tags": []
   },
   "source": [
    "#### We can stack these horizontally so that total features can be 128 + 13 = 141 (mel + mfcc)"
   ]
  },
  {
   "cell_type": "code",
   "execution_count": 22,
   "id": "972978f1",
   "metadata": {
    "execution": {
     "iopub.execute_input": "2025-01-04T15:42:50.244754Z",
     "iopub.status.busy": "2025-01-04T15:42:50.244434Z",
     "iopub.status.idle": "2025-01-04T15:42:50.250008Z",
     "shell.execute_reply": "2025-01-04T15:42:50.248759Z"
    },
    "papermill": {
     "duration": 0.0181,
     "end_time": "2025-01-04T15:42:50.251681",
     "exception": false,
     "start_time": "2025-01-04T15:42:50.233581",
     "status": "completed"
    },
    "tags": []
   },
   "outputs": [
    {
     "name": "stdout",
     "output_type": "stream",
     "text": [
      "Shape of feature data : (2864, 141)\n"
     ]
    }
   ],
   "source": [
    "features = np.hstack((mel_features_array, mfcc_features_array))\n",
    "\n",
    "print(f\"Shape of feature data : {features.shape}\")"
   ]
  },
  {
   "cell_type": "code",
   "execution_count": 23,
   "id": "ca39019e",
   "metadata": {
    "execution": {
     "iopub.execute_input": "2025-01-04T15:42:50.272710Z",
     "iopub.status.busy": "2025-01-04T15:42:50.272371Z",
     "iopub.status.idle": "2025-01-04T15:42:50.296128Z",
     "shell.execute_reply": "2025-01-04T15:42:50.295120Z"
    },
    "papermill": {
     "duration": 0.036284,
     "end_time": "2025-01-04T15:42:50.297878",
     "exception": false,
     "start_time": "2025-01-04T15:42:50.261594",
     "status": "completed"
    },
    "tags": []
   },
   "outputs": [
    {
     "data": {
      "text/html": [
       "<div>\n",
       "<style scoped>\n",
       "    .dataframe tbody tr th:only-of-type {\n",
       "        vertical-align: middle;\n",
       "    }\n",
       "\n",
       "    .dataframe tbody tr th {\n",
       "        vertical-align: top;\n",
       "    }\n",
       "\n",
       "    .dataframe thead th {\n",
       "        text-align: right;\n",
       "    }\n",
       "</style>\n",
       "<table border=\"1\" class=\"dataframe\">\n",
       "  <thead>\n",
       "    <tr style=\"text-align: right;\">\n",
       "      <th></th>\n",
       "      <th>paths</th>\n",
       "      <th>emotions</th>\n",
       "      <th>0</th>\n",
       "      <th>1</th>\n",
       "      <th>2</th>\n",
       "      <th>3</th>\n",
       "      <th>4</th>\n",
       "      <th>5</th>\n",
       "      <th>6</th>\n",
       "      <th>7</th>\n",
       "      <th>...</th>\n",
       "      <th>131</th>\n",
       "      <th>132</th>\n",
       "      <th>133</th>\n",
       "      <th>134</th>\n",
       "      <th>135</th>\n",
       "      <th>136</th>\n",
       "      <th>137</th>\n",
       "      <th>138</th>\n",
       "      <th>139</th>\n",
       "      <th>140</th>\n",
       "    </tr>\n",
       "  </thead>\n",
       "  <tbody>\n",
       "    <tr>\n",
       "      <th>0</th>\n",
       "      <td>/kaggle/input/ravdess-emotional-speech-audio/A...</td>\n",
       "      <td>surprised</td>\n",
       "      <td>0.005330</td>\n",
       "      <td>0.002353</td>\n",
       "      <td>0.000526</td>\n",
       "      <td>0.000214</td>\n",
       "      <td>0.000097</td>\n",
       "      <td>0.000512</td>\n",
       "      <td>0.008007</td>\n",
       "      <td>0.035475</td>\n",
       "      <td>...</td>\n",
       "      <td>5.832396</td>\n",
       "      <td>-0.544787</td>\n",
       "      <td>1.759662</td>\n",
       "      <td>-13.963181</td>\n",
       "      <td>3.950095</td>\n",
       "      <td>-7.412675</td>\n",
       "      <td>-1.880631</td>\n",
       "      <td>-2.538129</td>\n",
       "      <td>-3.536913</td>\n",
       "      <td>-2.970739</td>\n",
       "    </tr>\n",
       "    <tr>\n",
       "      <th>1</th>\n",
       "      <td>/kaggle/input/ravdess-emotional-speech-audio/A...</td>\n",
       "      <td>neutral</td>\n",
       "      <td>0.000011</td>\n",
       "      <td>0.000045</td>\n",
       "      <td>0.000094</td>\n",
       "      <td>0.000107</td>\n",
       "      <td>0.000051</td>\n",
       "      <td>0.000174</td>\n",
       "      <td>0.002984</td>\n",
       "      <td>0.018202</td>\n",
       "      <td>...</td>\n",
       "      <td>5.423141</td>\n",
       "      <td>0.609843</td>\n",
       "      <td>3.160732</td>\n",
       "      <td>-9.528844</td>\n",
       "      <td>2.647469</td>\n",
       "      <td>-9.230494</td>\n",
       "      <td>-3.492379</td>\n",
       "      <td>-2.775557</td>\n",
       "      <td>-0.858337</td>\n",
       "      <td>-3.252905</td>\n",
       "    </tr>\n",
       "    <tr>\n",
       "      <th>2</th>\n",
       "      <td>/kaggle/input/ravdess-emotional-speech-audio/A...</td>\n",
       "      <td>neutral</td>\n",
       "      <td>0.000016</td>\n",
       "      <td>0.000059</td>\n",
       "      <td>0.000159</td>\n",
       "      <td>0.000122</td>\n",
       "      <td>0.000105</td>\n",
       "      <td>0.000276</td>\n",
       "      <td>0.003741</td>\n",
       "      <td>0.020510</td>\n",
       "      <td>...</td>\n",
       "      <td>3.477045</td>\n",
       "      <td>-2.100553</td>\n",
       "      <td>2.704671</td>\n",
       "      <td>-9.134014</td>\n",
       "      <td>2.263086</td>\n",
       "      <td>-9.458851</td>\n",
       "      <td>-4.599762</td>\n",
       "      <td>-3.946795</td>\n",
       "      <td>-1.724058</td>\n",
       "      <td>-3.941357</td>\n",
       "    </tr>\n",
       "    <tr>\n",
       "      <th>3</th>\n",
       "      <td>/kaggle/input/ravdess-emotional-speech-audio/A...</td>\n",
       "      <td>sad</td>\n",
       "      <td>0.000006</td>\n",
       "      <td>0.000004</td>\n",
       "      <td>0.000006</td>\n",
       "      <td>0.000006</td>\n",
       "      <td>0.000004</td>\n",
       "      <td>0.000029</td>\n",
       "      <td>0.000857</td>\n",
       "      <td>0.029314</td>\n",
       "      <td>...</td>\n",
       "      <td>6.508976</td>\n",
       "      <td>-1.467618</td>\n",
       "      <td>2.875048</td>\n",
       "      <td>-8.309567</td>\n",
       "      <td>-0.596347</td>\n",
       "      <td>-11.488852</td>\n",
       "      <td>-5.763159</td>\n",
       "      <td>-3.149896</td>\n",
       "      <td>-3.248487</td>\n",
       "      <td>-5.245757</td>\n",
       "    </tr>\n",
       "    <tr>\n",
       "      <th>4</th>\n",
       "      <td>/kaggle/input/ravdess-emotional-speech-audio/A...</td>\n",
       "      <td>neutral</td>\n",
       "      <td>0.000010</td>\n",
       "      <td>0.000023</td>\n",
       "      <td>0.000083</td>\n",
       "      <td>0.000124</td>\n",
       "      <td>0.000091</td>\n",
       "      <td>0.000237</td>\n",
       "      <td>0.003369</td>\n",
       "      <td>0.019129</td>\n",
       "      <td>...</td>\n",
       "      <td>6.711427</td>\n",
       "      <td>2.317030</td>\n",
       "      <td>2.578446</td>\n",
       "      <td>-9.735838</td>\n",
       "      <td>3.739982</td>\n",
       "      <td>-9.666592</td>\n",
       "      <td>-1.574834</td>\n",
       "      <td>-2.758455</td>\n",
       "      <td>-1.905533</td>\n",
       "      <td>-2.608648</td>\n",
       "    </tr>\n",
       "  </tbody>\n",
       "</table>\n",
       "<p>5 rows × 143 columns</p>\n",
       "</div>"
      ],
      "text/plain": [
       "                                               paths   emotions         0  \\\n",
       "0  /kaggle/input/ravdess-emotional-speech-audio/A...  surprised  0.005330   \n",
       "1  /kaggle/input/ravdess-emotional-speech-audio/A...    neutral  0.000011   \n",
       "2  /kaggle/input/ravdess-emotional-speech-audio/A...    neutral  0.000016   \n",
       "3  /kaggle/input/ravdess-emotional-speech-audio/A...        sad  0.000006   \n",
       "4  /kaggle/input/ravdess-emotional-speech-audio/A...    neutral  0.000010   \n",
       "\n",
       "          1         2         3         4         5         6         7  ...  \\\n",
       "0  0.002353  0.000526  0.000214  0.000097  0.000512  0.008007  0.035475  ...   \n",
       "1  0.000045  0.000094  0.000107  0.000051  0.000174  0.002984  0.018202  ...   \n",
       "2  0.000059  0.000159  0.000122  0.000105  0.000276  0.003741  0.020510  ...   \n",
       "3  0.000004  0.000006  0.000006  0.000004  0.000029  0.000857  0.029314  ...   \n",
       "4  0.000023  0.000083  0.000124  0.000091  0.000237  0.003369  0.019129  ...   \n",
       "\n",
       "        131       132       133        134       135        136       137  \\\n",
       "0  5.832396 -0.544787  1.759662 -13.963181  3.950095  -7.412675 -1.880631   \n",
       "1  5.423141  0.609843  3.160732  -9.528844  2.647469  -9.230494 -3.492379   \n",
       "2  3.477045 -2.100553  2.704671  -9.134014  2.263086  -9.458851 -4.599762   \n",
       "3  6.508976 -1.467618  2.875048  -8.309567 -0.596347 -11.488852 -5.763159   \n",
       "4  6.711427  2.317030  2.578446  -9.735838  3.739982  -9.666592 -1.574834   \n",
       "\n",
       "        138       139       140  \n",
       "0 -2.538129 -3.536913 -2.970739  \n",
       "1 -2.775557 -0.858337 -3.252905  \n",
       "2 -3.946795 -1.724058 -3.941357  \n",
       "3 -3.149896 -3.248487 -5.245757  \n",
       "4 -2.758455 -1.905533 -2.608648  \n",
       "\n",
       "[5 rows x 143 columns]"
      ]
     },
     "execution_count": 23,
     "metadata": {},
     "output_type": "execute_result"
    }
   ],
   "source": [
    "#datagframe containing features and corresponding emotions\n",
    "df_features = pd.DataFrame(features)\n",
    "data = pd.concat([emotion_data, df_features], axis=1)\n",
    "data.head()"
   ]
  },
  {
   "cell_type": "code",
   "execution_count": 24,
   "id": "095888f7",
   "metadata": {
    "execution": {
     "iopub.execute_input": "2025-01-04T15:42:50.319817Z",
     "iopub.status.busy": "2025-01-04T15:42:50.319490Z",
     "iopub.status.idle": "2025-01-04T15:42:50.340450Z",
     "shell.execute_reply": "2025-01-04T15:42:50.339392Z"
    },
    "papermill": {
     "duration": 0.03371,
     "end_time": "2025-01-04T15:42:50.342130",
     "exception": false,
     "start_time": "2025-01-04T15:42:50.308420",
     "status": "completed"
    },
    "tags": []
   },
   "outputs": [
    {
     "data": {
      "text/html": [
       "<div>\n",
       "<style scoped>\n",
       "    .dataframe tbody tr th:only-of-type {\n",
       "        vertical-align: middle;\n",
       "    }\n",
       "\n",
       "    .dataframe tbody tr th {\n",
       "        vertical-align: top;\n",
       "    }\n",
       "\n",
       "    .dataframe thead th {\n",
       "        text-align: right;\n",
       "    }\n",
       "</style>\n",
       "<table border=\"1\" class=\"dataframe\">\n",
       "  <thead>\n",
       "    <tr style=\"text-align: right;\">\n",
       "      <th></th>\n",
       "      <th>emotions</th>\n",
       "      <th>0</th>\n",
       "      <th>1</th>\n",
       "      <th>2</th>\n",
       "      <th>3</th>\n",
       "      <th>4</th>\n",
       "      <th>5</th>\n",
       "      <th>6</th>\n",
       "      <th>7</th>\n",
       "      <th>8</th>\n",
       "      <th>...</th>\n",
       "      <th>131</th>\n",
       "      <th>132</th>\n",
       "      <th>133</th>\n",
       "      <th>134</th>\n",
       "      <th>135</th>\n",
       "      <th>136</th>\n",
       "      <th>137</th>\n",
       "      <th>138</th>\n",
       "      <th>139</th>\n",
       "      <th>140</th>\n",
       "    </tr>\n",
       "  </thead>\n",
       "  <tbody>\n",
       "    <tr>\n",
       "      <th>0</th>\n",
       "      <td>surprised</td>\n",
       "      <td>0.005330</td>\n",
       "      <td>0.002353</td>\n",
       "      <td>0.000526</td>\n",
       "      <td>0.000214</td>\n",
       "      <td>0.000097</td>\n",
       "      <td>0.000512</td>\n",
       "      <td>0.008007</td>\n",
       "      <td>0.035475</td>\n",
       "      <td>0.081590</td>\n",
       "      <td>...</td>\n",
       "      <td>5.832396</td>\n",
       "      <td>-0.544787</td>\n",
       "      <td>1.759662</td>\n",
       "      <td>-13.963181</td>\n",
       "      <td>3.950095</td>\n",
       "      <td>-7.412675</td>\n",
       "      <td>-1.880631</td>\n",
       "      <td>-2.538129</td>\n",
       "      <td>-3.536913</td>\n",
       "      <td>-2.970739</td>\n",
       "    </tr>\n",
       "    <tr>\n",
       "      <th>1</th>\n",
       "      <td>neutral</td>\n",
       "      <td>0.000011</td>\n",
       "      <td>0.000045</td>\n",
       "      <td>0.000094</td>\n",
       "      <td>0.000107</td>\n",
       "      <td>0.000051</td>\n",
       "      <td>0.000174</td>\n",
       "      <td>0.002984</td>\n",
       "      <td>0.018202</td>\n",
       "      <td>0.087022</td>\n",
       "      <td>...</td>\n",
       "      <td>5.423141</td>\n",
       "      <td>0.609843</td>\n",
       "      <td>3.160732</td>\n",
       "      <td>-9.528844</td>\n",
       "      <td>2.647469</td>\n",
       "      <td>-9.230494</td>\n",
       "      <td>-3.492379</td>\n",
       "      <td>-2.775557</td>\n",
       "      <td>-0.858337</td>\n",
       "      <td>-3.252905</td>\n",
       "    </tr>\n",
       "    <tr>\n",
       "      <th>2</th>\n",
       "      <td>neutral</td>\n",
       "      <td>0.000016</td>\n",
       "      <td>0.000059</td>\n",
       "      <td>0.000159</td>\n",
       "      <td>0.000122</td>\n",
       "      <td>0.000105</td>\n",
       "      <td>0.000276</td>\n",
       "      <td>0.003741</td>\n",
       "      <td>0.020510</td>\n",
       "      <td>0.087026</td>\n",
       "      <td>...</td>\n",
       "      <td>3.477045</td>\n",
       "      <td>-2.100553</td>\n",
       "      <td>2.704671</td>\n",
       "      <td>-9.134014</td>\n",
       "      <td>2.263086</td>\n",
       "      <td>-9.458851</td>\n",
       "      <td>-4.599762</td>\n",
       "      <td>-3.946795</td>\n",
       "      <td>-1.724058</td>\n",
       "      <td>-3.941357</td>\n",
       "    </tr>\n",
       "    <tr>\n",
       "      <th>3</th>\n",
       "      <td>sad</td>\n",
       "      <td>0.000006</td>\n",
       "      <td>0.000004</td>\n",
       "      <td>0.000006</td>\n",
       "      <td>0.000006</td>\n",
       "      <td>0.000004</td>\n",
       "      <td>0.000029</td>\n",
       "      <td>0.000857</td>\n",
       "      <td>0.029314</td>\n",
       "      <td>0.100019</td>\n",
       "      <td>...</td>\n",
       "      <td>6.508976</td>\n",
       "      <td>-1.467618</td>\n",
       "      <td>2.875048</td>\n",
       "      <td>-8.309567</td>\n",
       "      <td>-0.596347</td>\n",
       "      <td>-11.488852</td>\n",
       "      <td>-5.763159</td>\n",
       "      <td>-3.149896</td>\n",
       "      <td>-3.248487</td>\n",
       "      <td>-5.245757</td>\n",
       "    </tr>\n",
       "    <tr>\n",
       "      <th>4</th>\n",
       "      <td>neutral</td>\n",
       "      <td>0.000010</td>\n",
       "      <td>0.000023</td>\n",
       "      <td>0.000083</td>\n",
       "      <td>0.000124</td>\n",
       "      <td>0.000091</td>\n",
       "      <td>0.000237</td>\n",
       "      <td>0.003369</td>\n",
       "      <td>0.019129</td>\n",
       "      <td>0.072370</td>\n",
       "      <td>...</td>\n",
       "      <td>6.711427</td>\n",
       "      <td>2.317030</td>\n",
       "      <td>2.578446</td>\n",
       "      <td>-9.735838</td>\n",
       "      <td>3.739982</td>\n",
       "      <td>-9.666592</td>\n",
       "      <td>-1.574834</td>\n",
       "      <td>-2.758455</td>\n",
       "      <td>-1.905533</td>\n",
       "      <td>-2.608648</td>\n",
       "    </tr>\n",
       "  </tbody>\n",
       "</table>\n",
       "<p>5 rows × 142 columns</p>\n",
       "</div>"
      ],
      "text/plain": [
       "    emotions         0         1         2         3         4         5  \\\n",
       "0  surprised  0.005330  0.002353  0.000526  0.000214  0.000097  0.000512   \n",
       "1    neutral  0.000011  0.000045  0.000094  0.000107  0.000051  0.000174   \n",
       "2    neutral  0.000016  0.000059  0.000159  0.000122  0.000105  0.000276   \n",
       "3        sad  0.000006  0.000004  0.000006  0.000006  0.000004  0.000029   \n",
       "4    neutral  0.000010  0.000023  0.000083  0.000124  0.000091  0.000237   \n",
       "\n",
       "          6         7         8  ...       131       132       133        134  \\\n",
       "0  0.008007  0.035475  0.081590  ...  5.832396 -0.544787  1.759662 -13.963181   \n",
       "1  0.002984  0.018202  0.087022  ...  5.423141  0.609843  3.160732  -9.528844   \n",
       "2  0.003741  0.020510  0.087026  ...  3.477045 -2.100553  2.704671  -9.134014   \n",
       "3  0.000857  0.029314  0.100019  ...  6.508976 -1.467618  2.875048  -8.309567   \n",
       "4  0.003369  0.019129  0.072370  ...  6.711427  2.317030  2.578446  -9.735838   \n",
       "\n",
       "        135        136       137       138       139       140  \n",
       "0  3.950095  -7.412675 -1.880631 -2.538129 -3.536913 -2.970739  \n",
       "1  2.647469  -9.230494 -3.492379 -2.775557 -0.858337 -3.252905  \n",
       "2  2.263086  -9.458851 -4.599762 -3.946795 -1.724058 -3.941357  \n",
       "3 -0.596347 -11.488852 -5.763159 -3.149896 -3.248487 -5.245757  \n",
       "4  3.739982  -9.666592 -1.574834 -2.758455 -1.905533 -2.608648  \n",
       "\n",
       "[5 rows x 142 columns]"
      ]
     },
     "execution_count": 24,
     "metadata": {},
     "output_type": "execute_result"
    }
   ],
   "source": [
    "data_new = data.drop(columns=['paths'])\n",
    "data_new.head()"
   ]
  },
  {
   "cell_type": "markdown",
   "id": "65673c28",
   "metadata": {
    "papermill": {
     "duration": 0.010388,
     "end_time": "2025-01-04T15:42:50.363088",
     "exception": false,
     "start_time": "2025-01-04T15:42:50.352700",
     "status": "completed"
    },
    "tags": []
   },
   "source": [
    "#### Now, for feeding it to ML model we have to separate features and emotions\n",
    "#### As emotions would act as predictions"
   ]
  },
  {
   "cell_type": "code",
   "execution_count": 25,
   "id": "0e722676",
   "metadata": {
    "execution": {
     "iopub.execute_input": "2025-01-04T15:42:50.385422Z",
     "iopub.status.busy": "2025-01-04T15:42:50.385055Z",
     "iopub.status.idle": "2025-01-04T15:42:50.391424Z",
     "shell.execute_reply": "2025-01-04T15:42:50.390334Z"
    },
    "papermill": {
     "duration": 0.019731,
     "end_time": "2025-01-04T15:42:50.393429",
     "exception": false,
     "start_time": "2025-01-04T15:42:50.373698",
     "status": "completed"
    },
    "tags": []
   },
   "outputs": [],
   "source": [
    "X = data_new.drop(columns=['emotions'])\n",
    "y = data_new['emotions'].to_numpy()"
   ]
  },
  {
   "cell_type": "code",
   "execution_count": 26,
   "id": "4be6d95f",
   "metadata": {
    "execution": {
     "iopub.execute_input": "2025-01-04T15:42:50.416182Z",
     "iopub.status.busy": "2025-01-04T15:42:50.415719Z",
     "iopub.status.idle": "2025-01-04T15:42:50.505358Z",
     "shell.execute_reply": "2025-01-04T15:42:50.504320Z"
    },
    "papermill": {
     "duration": 0.102979,
     "end_time": "2025-01-04T15:42:50.507128",
     "exception": false,
     "start_time": "2025-01-04T15:42:50.404149",
     "status": "completed"
    },
    "tags": []
   },
   "outputs": [
    {
     "data": {
      "text/plain": [
       "array(['x0_angry', 'x0_happy', 'x0_neutral', 'x0_sad', 'x0_surprised'],\n",
       "      dtype=object)"
      ]
     },
     "execution_count": 26,
     "metadata": {},
     "output_type": "execute_result"
    }
   ],
   "source": [
    "from sklearn.preprocessing import OneHotEncoder\n",
    "encoder = OneHotEncoder()\n",
    "y_encoded = encoder.fit_transform(y.reshape(-1, 1))\n",
    "\n",
    "encoder.get_feature_names_out()"
   ]
  },
  {
   "cell_type": "code",
   "execution_count": 27,
   "id": "9d496467",
   "metadata": {
    "execution": {
     "iopub.execute_input": "2025-01-04T15:42:50.530055Z",
     "iopub.status.busy": "2025-01-04T15:42:50.529679Z",
     "iopub.status.idle": "2025-01-04T15:42:50.534699Z",
     "shell.execute_reply": "2025-01-04T15:42:50.533496Z"
    },
    "papermill": {
     "duration": 0.018251,
     "end_time": "2025-01-04T15:42:50.536364",
     "exception": false,
     "start_time": "2025-01-04T15:42:50.518113",
     "status": "completed"
    },
    "tags": []
   },
   "outputs": [
    {
     "name": "stdout",
     "output_type": "stream",
     "text": [
      "Shape of y_encoded : (2864, 5)\n"
     ]
    }
   ],
   "source": [
    "print(f\"Shape of y_encoded : {y_encoded.shape}\")"
   ]
  },
  {
   "cell_type": "code",
   "execution_count": 28,
   "id": "50a05d71",
   "metadata": {
    "execution": {
     "iopub.execute_input": "2025-01-04T15:42:50.559931Z",
     "iopub.status.busy": "2025-01-04T15:42:50.559603Z",
     "iopub.status.idle": "2025-01-04T15:42:50.568097Z",
     "shell.execute_reply": "2025-01-04T15:42:50.567075Z"
    },
    "papermill": {
     "duration": 0.021754,
     "end_time": "2025-01-04T15:42:50.569597",
     "exception": false,
     "start_time": "2025-01-04T15:42:50.547843",
     "status": "completed"
    },
    "tags": []
   },
   "outputs": [
    {
     "data": {
      "text/plain": [
       "array([[0., 0., 0., 0., 1.],\n",
       "       [0., 0., 1., 0., 0.],\n",
       "       [0., 0., 1., 0., 0.],\n",
       "       ...,\n",
       "       [0., 0., 0., 0., 1.],\n",
       "       [0., 0., 0., 0., 1.],\n",
       "       [0., 0., 0., 0., 1.]])"
      ]
     },
     "execution_count": 28,
     "metadata": {},
     "output_type": "execute_result"
    }
   ],
   "source": [
    "y_encoded = y_encoded.toarray()\n",
    "y_encoded"
   ]
  },
  {
   "cell_type": "code",
   "execution_count": 29,
   "id": "247e4829",
   "metadata": {
    "execution": {
     "iopub.execute_input": "2025-01-04T15:42:50.592980Z",
     "iopub.status.busy": "2025-01-04T15:42:50.592654Z",
     "iopub.status.idle": "2025-01-04T15:42:50.700435Z",
     "shell.execute_reply": "2025-01-04T15:42:50.699298Z"
    },
    "papermill": {
     "duration": 0.121185,
     "end_time": "2025-01-04T15:42:50.702085",
     "exception": false,
     "start_time": "2025-01-04T15:42:50.580900",
     "status": "completed"
    },
    "tags": []
   },
   "outputs": [
    {
     "name": "stdout",
     "output_type": "stream",
     "text": [
      "Shape of X_train : (2291, 141)\n",
      "Shape of X_test : (573, 141)\n",
      "Shape of y_train : (2291, 5)\n",
      "Shape of y_test : (573, 5)\n"
     ]
    }
   ],
   "source": [
    "from sklearn.model_selection import train_test_split\n",
    "\n",
    "X_train, X_test, y_train, y_test = train_test_split(X, y_encoded, test_size=0.2, shuffle=True, random_state=42)\n",
    "\n",
    "print(f\"Shape of X_train : {X_train.shape}\")\n",
    "print(f\"Shape of X_test : {X_test.shape}\")\n",
    "print(f\"Shape of y_train : {y_train.shape}\")\n",
    "print(f\"Shape of y_test : {y_test.shape}\")"
   ]
  },
  {
   "cell_type": "code",
   "execution_count": 30,
   "id": "bf836f60",
   "metadata": {
    "execution": {
     "iopub.execute_input": "2025-01-04T15:42:50.727982Z",
     "iopub.status.busy": "2025-01-04T15:42:50.727624Z",
     "iopub.status.idle": "2025-01-04T15:42:50.752699Z",
     "shell.execute_reply": "2025-01-04T15:42:50.751576Z"
    },
    "papermill": {
     "duration": 0.040342,
     "end_time": "2025-01-04T15:42:50.754303",
     "exception": false,
     "start_time": "2025-01-04T15:42:50.713961",
     "status": "completed"
    },
    "tags": []
   },
   "outputs": [
    {
     "data": {
      "text/html": [
       "<div>\n",
       "<style scoped>\n",
       "    .dataframe tbody tr th:only-of-type {\n",
       "        vertical-align: middle;\n",
       "    }\n",
       "\n",
       "    .dataframe tbody tr th {\n",
       "        vertical-align: top;\n",
       "    }\n",
       "\n",
       "    .dataframe thead th {\n",
       "        text-align: right;\n",
       "    }\n",
       "</style>\n",
       "<table border=\"1\" class=\"dataframe\">\n",
       "  <thead>\n",
       "    <tr style=\"text-align: right;\">\n",
       "      <th></th>\n",
       "      <th>0</th>\n",
       "      <th>1</th>\n",
       "      <th>2</th>\n",
       "      <th>3</th>\n",
       "      <th>4</th>\n",
       "      <th>5</th>\n",
       "      <th>6</th>\n",
       "      <th>7</th>\n",
       "      <th>8</th>\n",
       "      <th>9</th>\n",
       "      <th>...</th>\n",
       "      <th>131</th>\n",
       "      <th>132</th>\n",
       "      <th>133</th>\n",
       "      <th>134</th>\n",
       "      <th>135</th>\n",
       "      <th>136</th>\n",
       "      <th>137</th>\n",
       "      <th>138</th>\n",
       "      <th>139</th>\n",
       "      <th>140</th>\n",
       "    </tr>\n",
       "  </thead>\n",
       "  <tbody>\n",
       "    <tr>\n",
       "      <th>2026</th>\n",
       "      <td>0.032357</td>\n",
       "      <td>0.001924</td>\n",
       "      <td>0.000371</td>\n",
       "      <td>0.000142</td>\n",
       "      <td>0.001038</td>\n",
       "      <td>0.066434</td>\n",
       "      <td>0.550551</td>\n",
       "      <td>0.439713</td>\n",
       "      <td>0.216339</td>\n",
       "      <td>0.456380</td>\n",
       "      <td>...</td>\n",
       "      <td>-13.430094</td>\n",
       "      <td>-3.110532</td>\n",
       "      <td>-0.415998</td>\n",
       "      <td>-14.109655</td>\n",
       "      <td>1.978024</td>\n",
       "      <td>-21.859911</td>\n",
       "      <td>-2.433320</td>\n",
       "      <td>-8.691028</td>\n",
       "      <td>-12.257754</td>\n",
       "      <td>-1.146068</td>\n",
       "    </tr>\n",
       "    <tr>\n",
       "      <th>651</th>\n",
       "      <td>0.000028</td>\n",
       "      <td>0.000232</td>\n",
       "      <td>0.006332</td>\n",
       "      <td>0.011361</td>\n",
       "      <td>0.002322</td>\n",
       "      <td>0.000966</td>\n",
       "      <td>0.004524</td>\n",
       "      <td>0.005690</td>\n",
       "      <td>0.003628</td>\n",
       "      <td>0.001031</td>\n",
       "      <td>...</td>\n",
       "      <td>21.509886</td>\n",
       "      <td>11.027833</td>\n",
       "      <td>15.774215</td>\n",
       "      <td>0.961535</td>\n",
       "      <td>4.918613</td>\n",
       "      <td>-0.847267</td>\n",
       "      <td>-2.556879</td>\n",
       "      <td>1.998925</td>\n",
       "      <td>1.679843</td>\n",
       "      <td>-2.888849</td>\n",
       "    </tr>\n",
       "    <tr>\n",
       "      <th>2225</th>\n",
       "      <td>0.005757</td>\n",
       "      <td>0.001292</td>\n",
       "      <td>0.000471</td>\n",
       "      <td>0.001026</td>\n",
       "      <td>0.000646</td>\n",
       "      <td>0.000576</td>\n",
       "      <td>0.000901</td>\n",
       "      <td>0.166192</td>\n",
       "      <td>1.456336</td>\n",
       "      <td>3.431556</td>\n",
       "      <td>...</td>\n",
       "      <td>15.414153</td>\n",
       "      <td>-11.969515</td>\n",
       "      <td>-8.027687</td>\n",
       "      <td>-4.341426</td>\n",
       "      <td>-17.508596</td>\n",
       "      <td>-1.117411</td>\n",
       "      <td>-0.495612</td>\n",
       "      <td>-13.851877</td>\n",
       "      <td>12.329076</td>\n",
       "      <td>-12.863722</td>\n",
       "    </tr>\n",
       "    <tr>\n",
       "      <th>2357</th>\n",
       "      <td>0.029194</td>\n",
       "      <td>0.001726</td>\n",
       "      <td>0.000074</td>\n",
       "      <td>0.000043</td>\n",
       "      <td>0.000644</td>\n",
       "      <td>0.012738</td>\n",
       "      <td>0.060444</td>\n",
       "      <td>0.168468</td>\n",
       "      <td>0.132574</td>\n",
       "      <td>0.203873</td>\n",
       "      <td>...</td>\n",
       "      <td>-11.892281</td>\n",
       "      <td>-1.281929</td>\n",
       "      <td>4.798856</td>\n",
       "      <td>-11.322982</td>\n",
       "      <td>-11.416570</td>\n",
       "      <td>-13.864592</td>\n",
       "      <td>-5.427602</td>\n",
       "      <td>-4.242535</td>\n",
       "      <td>-12.003412</td>\n",
       "      <td>-5.373620</td>\n",
       "    </tr>\n",
       "    <tr>\n",
       "      <th>670</th>\n",
       "      <td>1.700180</td>\n",
       "      <td>0.170361</td>\n",
       "      <td>0.018213</td>\n",
       "      <td>0.007061</td>\n",
       "      <td>0.004498</td>\n",
       "      <td>0.012184</td>\n",
       "      <td>0.024892</td>\n",
       "      <td>0.046462</td>\n",
       "      <td>0.114480</td>\n",
       "      <td>0.202455</td>\n",
       "      <td>...</td>\n",
       "      <td>0.468054</td>\n",
       "      <td>-6.506432</td>\n",
       "      <td>7.696177</td>\n",
       "      <td>-13.269676</td>\n",
       "      <td>1.848019</td>\n",
       "      <td>-8.492751</td>\n",
       "      <td>-1.686271</td>\n",
       "      <td>-1.293972</td>\n",
       "      <td>-1.473418</td>\n",
       "      <td>-0.117926</td>\n",
       "    </tr>\n",
       "    <tr>\n",
       "      <th>...</th>\n",
       "      <td>...</td>\n",
       "      <td>...</td>\n",
       "      <td>...</td>\n",
       "      <td>...</td>\n",
       "      <td>...</td>\n",
       "      <td>...</td>\n",
       "      <td>...</td>\n",
       "      <td>...</td>\n",
       "      <td>...</td>\n",
       "      <td>...</td>\n",
       "      <td>...</td>\n",
       "      <td>...</td>\n",
       "      <td>...</td>\n",
       "      <td>...</td>\n",
       "      <td>...</td>\n",
       "      <td>...</td>\n",
       "      <td>...</td>\n",
       "      <td>...</td>\n",
       "      <td>...</td>\n",
       "      <td>...</td>\n",
       "      <td>...</td>\n",
       "    </tr>\n",
       "    <tr>\n",
       "      <th>1638</th>\n",
       "      <td>0.356371</td>\n",
       "      <td>0.048000</td>\n",
       "      <td>0.001753</td>\n",
       "      <td>0.004443</td>\n",
       "      <td>0.009997</td>\n",
       "      <td>0.015992</td>\n",
       "      <td>0.142607</td>\n",
       "      <td>0.306149</td>\n",
       "      <td>0.276312</td>\n",
       "      <td>0.721290</td>\n",
       "      <td>...</td>\n",
       "      <td>10.070400</td>\n",
       "      <td>14.920457</td>\n",
       "      <td>8.821838</td>\n",
       "      <td>3.846624</td>\n",
       "      <td>-5.887284</td>\n",
       "      <td>-15.180757</td>\n",
       "      <td>3.036960</td>\n",
       "      <td>-6.319115</td>\n",
       "      <td>-0.248058</td>\n",
       "      <td>1.490552</td>\n",
       "    </tr>\n",
       "    <tr>\n",
       "      <th>1095</th>\n",
       "      <td>0.036294</td>\n",
       "      <td>0.001345</td>\n",
       "      <td>0.000068</td>\n",
       "      <td>0.000033</td>\n",
       "      <td>0.000028</td>\n",
       "      <td>0.000506</td>\n",
       "      <td>0.174807</td>\n",
       "      <td>0.676642</td>\n",
       "      <td>0.145530</td>\n",
       "      <td>0.009010</td>\n",
       "      <td>...</td>\n",
       "      <td>6.792445</td>\n",
       "      <td>8.795573</td>\n",
       "      <td>11.217850</td>\n",
       "      <td>-5.907580</td>\n",
       "      <td>-0.354923</td>\n",
       "      <td>-12.734855</td>\n",
       "      <td>-6.187965</td>\n",
       "      <td>-2.924411</td>\n",
       "      <td>-2.482128</td>\n",
       "      <td>-3.825830</td>\n",
       "    </tr>\n",
       "    <tr>\n",
       "      <th>1130</th>\n",
       "      <td>0.023813</td>\n",
       "      <td>0.001385</td>\n",
       "      <td>0.000041</td>\n",
       "      <td>0.000026</td>\n",
       "      <td>0.000022</td>\n",
       "      <td>0.000141</td>\n",
       "      <td>0.098916</td>\n",
       "      <td>0.772600</td>\n",
       "      <td>0.209843</td>\n",
       "      <td>0.002810</td>\n",
       "      <td>...</td>\n",
       "      <td>3.358066</td>\n",
       "      <td>-0.333333</td>\n",
       "      <td>5.658321</td>\n",
       "      <td>-3.922231</td>\n",
       "      <td>-6.382865</td>\n",
       "      <td>-17.935268</td>\n",
       "      <td>-0.589097</td>\n",
       "      <td>-11.741883</td>\n",
       "      <td>-3.328039</td>\n",
       "      <td>-4.007313</td>\n",
       "    </tr>\n",
       "    <tr>\n",
       "      <th>1294</th>\n",
       "      <td>0.004161</td>\n",
       "      <td>0.000602</td>\n",
       "      <td>0.000537</td>\n",
       "      <td>0.001204</td>\n",
       "      <td>0.000503</td>\n",
       "      <td>0.005406</td>\n",
       "      <td>0.078169</td>\n",
       "      <td>0.245215</td>\n",
       "      <td>1.071043</td>\n",
       "      <td>3.077839</td>\n",
       "      <td>...</td>\n",
       "      <td>19.972504</td>\n",
       "      <td>-11.782853</td>\n",
       "      <td>-5.585135</td>\n",
       "      <td>0.227455</td>\n",
       "      <td>-21.027191</td>\n",
       "      <td>-11.317308</td>\n",
       "      <td>3.625925</td>\n",
       "      <td>-20.661032</td>\n",
       "      <td>8.298306</td>\n",
       "      <td>-4.107080</td>\n",
       "    </tr>\n",
       "    <tr>\n",
       "      <th>860</th>\n",
       "      <td>0.000032</td>\n",
       "      <td>0.000133</td>\n",
       "      <td>0.004641</td>\n",
       "      <td>0.016446</td>\n",
       "      <td>0.022412</td>\n",
       "      <td>0.019746</td>\n",
       "      <td>0.005812</td>\n",
       "      <td>0.003830</td>\n",
       "      <td>0.010222</td>\n",
       "      <td>0.008224</td>\n",
       "      <td>...</td>\n",
       "      <td>22.229656</td>\n",
       "      <td>5.273294</td>\n",
       "      <td>17.131599</td>\n",
       "      <td>-6.824180</td>\n",
       "      <td>3.435259</td>\n",
       "      <td>-10.751446</td>\n",
       "      <td>0.387513</td>\n",
       "      <td>3.329706</td>\n",
       "      <td>-4.051571</td>\n",
       "      <td>-3.068295</td>\n",
       "    </tr>\n",
       "  </tbody>\n",
       "</table>\n",
       "<p>2291 rows × 141 columns</p>\n",
       "</div>"
      ],
      "text/plain": [
       "           0         1         2         3         4         5         6    \\\n",
       "2026  0.032357  0.001924  0.000371  0.000142  0.001038  0.066434  0.550551   \n",
       "651   0.000028  0.000232  0.006332  0.011361  0.002322  0.000966  0.004524   \n",
       "2225  0.005757  0.001292  0.000471  0.001026  0.000646  0.000576  0.000901   \n",
       "2357  0.029194  0.001726  0.000074  0.000043  0.000644  0.012738  0.060444   \n",
       "670   1.700180  0.170361  0.018213  0.007061  0.004498  0.012184  0.024892   \n",
       "...        ...       ...       ...       ...       ...       ...       ...   \n",
       "1638  0.356371  0.048000  0.001753  0.004443  0.009997  0.015992  0.142607   \n",
       "1095  0.036294  0.001345  0.000068  0.000033  0.000028  0.000506  0.174807   \n",
       "1130  0.023813  0.001385  0.000041  0.000026  0.000022  0.000141  0.098916   \n",
       "1294  0.004161  0.000602  0.000537  0.001204  0.000503  0.005406  0.078169   \n",
       "860   0.000032  0.000133  0.004641  0.016446  0.022412  0.019746  0.005812   \n",
       "\n",
       "           7         8         9    ...        131        132        133  \\\n",
       "2026  0.439713  0.216339  0.456380  ... -13.430094  -3.110532  -0.415998   \n",
       "651   0.005690  0.003628  0.001031  ...  21.509886  11.027833  15.774215   \n",
       "2225  0.166192  1.456336  3.431556  ...  15.414153 -11.969515  -8.027687   \n",
       "2357  0.168468  0.132574  0.203873  ... -11.892281  -1.281929   4.798856   \n",
       "670   0.046462  0.114480  0.202455  ...   0.468054  -6.506432   7.696177   \n",
       "...        ...       ...       ...  ...        ...        ...        ...   \n",
       "1638  0.306149  0.276312  0.721290  ...  10.070400  14.920457   8.821838   \n",
       "1095  0.676642  0.145530  0.009010  ...   6.792445   8.795573  11.217850   \n",
       "1130  0.772600  0.209843  0.002810  ...   3.358066  -0.333333   5.658321   \n",
       "1294  0.245215  1.071043  3.077839  ...  19.972504 -11.782853  -5.585135   \n",
       "860   0.003830  0.010222  0.008224  ...  22.229656   5.273294  17.131599   \n",
       "\n",
       "            134        135        136       137        138        139  \\\n",
       "2026 -14.109655   1.978024 -21.859911 -2.433320  -8.691028 -12.257754   \n",
       "651    0.961535   4.918613  -0.847267 -2.556879   1.998925   1.679843   \n",
       "2225  -4.341426 -17.508596  -1.117411 -0.495612 -13.851877  12.329076   \n",
       "2357 -11.322982 -11.416570 -13.864592 -5.427602  -4.242535 -12.003412   \n",
       "670  -13.269676   1.848019  -8.492751 -1.686271  -1.293972  -1.473418   \n",
       "...         ...        ...        ...       ...        ...        ...   \n",
       "1638   3.846624  -5.887284 -15.180757  3.036960  -6.319115  -0.248058   \n",
       "1095  -5.907580  -0.354923 -12.734855 -6.187965  -2.924411  -2.482128   \n",
       "1130  -3.922231  -6.382865 -17.935268 -0.589097 -11.741883  -3.328039   \n",
       "1294   0.227455 -21.027191 -11.317308  3.625925 -20.661032   8.298306   \n",
       "860   -6.824180   3.435259 -10.751446  0.387513   3.329706  -4.051571   \n",
       "\n",
       "            140  \n",
       "2026  -1.146068  \n",
       "651   -2.888849  \n",
       "2225 -12.863722  \n",
       "2357  -5.373620  \n",
       "670   -0.117926  \n",
       "...         ...  \n",
       "1638   1.490552  \n",
       "1095  -3.825830  \n",
       "1130  -4.007313  \n",
       "1294  -4.107080  \n",
       "860   -3.068295  \n",
       "\n",
       "[2291 rows x 141 columns]"
      ]
     },
     "execution_count": 30,
     "metadata": {},
     "output_type": "execute_result"
    }
   ],
   "source": [
    "X_train"
   ]
  },
  {
   "cell_type": "markdown",
   "id": "d5ee3aca",
   "metadata": {
    "papermill": {
     "duration": 0.010923,
     "end_time": "2025-01-04T15:42:50.776794",
     "exception": false,
     "start_time": "2025-01-04T15:42:50.765871",
     "status": "completed"
    },
    "tags": []
   },
   "source": [
    "##### Ooops features are not scaled, lets do it"
   ]
  },
  {
   "cell_type": "code",
   "execution_count": 31,
   "id": "61023aa9",
   "metadata": {
    "execution": {
     "iopub.execute_input": "2025-01-04T15:42:50.800440Z",
     "iopub.status.busy": "2025-01-04T15:42:50.800074Z",
     "iopub.status.idle": "2025-01-04T15:42:50.817655Z",
     "shell.execute_reply": "2025-01-04T15:42:50.816518Z"
    },
    "papermill": {
     "duration": 0.031512,
     "end_time": "2025-01-04T15:42:50.819356",
     "exception": false,
     "start_time": "2025-01-04T15:42:50.787844",
     "status": "completed"
    },
    "tags": []
   },
   "outputs": [
    {
     "name": "stdout",
     "output_type": "stream",
     "text": [
      "(2291, 141)\n",
      "(573, 141)\n"
     ]
    }
   ],
   "source": [
    "## scaling features\n",
    "from sklearn.preprocessing import MinMaxScaler\n",
    "\n",
    "scaler = MinMaxScaler()\n",
    "\n",
    "X_train = scaler.fit_transform(X_train)\n",
    "X_test = scaler.transform(X_test)\n",
    "\n",
    "print(X_train.shape)\n",
    "print(X_test.shape)"
   ]
  },
  {
   "cell_type": "code",
   "execution_count": 32,
   "id": "85983f70",
   "metadata": {
    "execution": {
     "iopub.execute_input": "2025-01-04T15:42:50.843691Z",
     "iopub.status.busy": "2025-01-04T15:42:50.843294Z",
     "iopub.status.idle": "2025-01-04T15:42:50.851322Z",
     "shell.execute_reply": "2025-01-04T15:42:50.850090Z"
    },
    "papermill": {
     "duration": 0.021917,
     "end_time": "2025-01-04T15:42:50.852847",
     "exception": false,
     "start_time": "2025-01-04T15:42:50.830930",
     "status": "completed"
    },
    "tags": []
   },
   "outputs": [
    {
     "data": {
      "text/plain": [
       "['scaler.pkl']"
      ]
     },
     "execution_count": 32,
     "metadata": {},
     "output_type": "execute_result"
    }
   ],
   "source": [
    "import joblib\n",
    "\n",
    "# Sauvegarder le scaler\n",
    "joblib.dump(scaler, 'scaler.pkl')"
   ]
  },
  {
   "cell_type": "markdown",
   "id": "9342f509",
   "metadata": {
    "papermill": {
     "duration": 0.013345,
     "end_time": "2025-01-04T15:42:50.881026",
     "exception": false,
     "start_time": "2025-01-04T15:42:50.867681",
     "status": "completed"
    },
    "tags": []
   },
   "source": [
    "## Model Building"
   ]
  },
  {
   "cell_type": "code",
   "execution_count": 33,
   "id": "fc4667df",
   "metadata": {
    "execution": {
     "iopub.execute_input": "2025-01-04T15:42:50.916581Z",
     "iopub.status.busy": "2025-01-04T15:42:50.916224Z",
     "iopub.status.idle": "2025-01-04T15:42:59.823405Z",
     "shell.execute_reply": "2025-01-04T15:42:59.822162Z"
    },
    "papermill": {
     "duration": 8.930027,
     "end_time": "2025-01-04T15:42:59.825239",
     "exception": false,
     "start_time": "2025-01-04T15:42:50.895212",
     "status": "completed"
    },
    "tags": []
   },
   "outputs": [
    {
     "name": "stderr",
     "output_type": "stream",
     "text": [
      "/usr/local/lib/python3.10/dist-packages/keras/src/layers/convolutional/base_conv.py:107: UserWarning: Do not pass an `input_shape`/`input_dim` argument to a layer. When using Sequential models, prefer using an `Input(shape)` object as the first layer in the model instead.\n",
      "  super().__init__(activity_regularizer=activity_regularizer, **kwargs)\n"
     ]
    }
   ],
   "source": [
    "import tensorflow as tf\n",
    "import tensorflow.keras \n",
    "from tensorflow.keras.models import Sequential\n",
    "from tensorflow.keras.layers import Conv1D, MaxPooling1D, Dropout, BatchNormalization, Flatten, Dense, LSTM\n",
    "\n",
    "## Model architecture\n",
    "model = Sequential([\n",
    "    Conv1D(64, kernel_size=(8), activation='relu', input_shape=(X_train.shape[1], 1)),\n",
    "    Conv1D(128, kernel_size=(8), activation='relu'),\n",
    "    MaxPooling1D(pool_size=(4)),\n",
    "    Dropout(0.2),\n",
    "\n",
    "    Conv1D(128, kernel_size=(8), activation='relu'),\n",
    "    MaxPooling1D(pool_size=(4)),\n",
    "    Dropout(0.2),\n",
    "    BatchNormalization(),\n",
    "    \n",
    "    LSTM(128, return_sequences=False),  # Capture des relations temporelles\n",
    "    Dropout(0.2),\n",
    "\n",
    "    # Fully connected layers\n",
    "    Dense(256, activation='relu'),\n",
    "    Dropout(0.2),\n",
    "    Dense(5, activation='softmax')  # 8 émotions possibles\n",
    "    \n",
    "])"
   ]
  },
  {
   "cell_type": "code",
   "execution_count": 34,
   "id": "49029713",
   "metadata": {
    "execution": {
     "iopub.execute_input": "2025-01-04T15:42:59.850465Z",
     "iopub.status.busy": "2025-01-04T15:42:59.849817Z",
     "iopub.status.idle": "2025-01-04T15:42:59.876516Z",
     "shell.execute_reply": "2025-01-04T15:42:59.875595Z"
    },
    "papermill": {
     "duration": 0.040815,
     "end_time": "2025-01-04T15:42:59.878117",
     "exception": false,
     "start_time": "2025-01-04T15:42:59.837302",
     "status": "completed"
    },
    "tags": []
   },
   "outputs": [
    {
     "data": {
      "text/html": [
       "<pre style=\"white-space:pre;overflow-x:auto;line-height:normal;font-family:Menlo,'DejaVu Sans Mono',consolas,'Courier New',monospace\"><span style=\"font-weight: bold\">Model: \"sequential\"</span>\n",
       "</pre>\n"
      ],
      "text/plain": [
       "\u001b[1mModel: \"sequential\"\u001b[0m\n"
      ]
     },
     "metadata": {},
     "output_type": "display_data"
    },
    {
     "data": {
      "text/html": [
       "<pre style=\"white-space:pre;overflow-x:auto;line-height:normal;font-family:Menlo,'DejaVu Sans Mono',consolas,'Courier New',monospace\">┏━━━━━━━━━━━━━━━━━━━━━━━━━━━━━━━━━━━━━━┳━━━━━━━━━━━━━━━━━━━━━━━━━━━━━┳━━━━━━━━━━━━━━━━━┓\n",
       "┃<span style=\"font-weight: bold\"> Layer (type)                         </span>┃<span style=\"font-weight: bold\"> Output Shape                </span>┃<span style=\"font-weight: bold\">         Param # </span>┃\n",
       "┡━━━━━━━━━━━━━━━━━━━━━━━━━━━━━━━━━━━━━━╇━━━━━━━━━━━━━━━━━━━━━━━━━━━━━╇━━━━━━━━━━━━━━━━━┩\n",
       "│ conv1d (<span style=\"color: #0087ff; text-decoration-color: #0087ff\">Conv1D</span>)                      │ (<span style=\"color: #00d7ff; text-decoration-color: #00d7ff\">None</span>, <span style=\"color: #00af00; text-decoration-color: #00af00\">134</span>, <span style=\"color: #00af00; text-decoration-color: #00af00\">64</span>)             │             <span style=\"color: #00af00; text-decoration-color: #00af00\">576</span> │\n",
       "├──────────────────────────────────────┼─────────────────────────────┼─────────────────┤\n",
       "│ conv1d_1 (<span style=\"color: #0087ff; text-decoration-color: #0087ff\">Conv1D</span>)                    │ (<span style=\"color: #00d7ff; text-decoration-color: #00d7ff\">None</span>, <span style=\"color: #00af00; text-decoration-color: #00af00\">127</span>, <span style=\"color: #00af00; text-decoration-color: #00af00\">128</span>)            │          <span style=\"color: #00af00; text-decoration-color: #00af00\">65,664</span> │\n",
       "├──────────────────────────────────────┼─────────────────────────────┼─────────────────┤\n",
       "│ max_pooling1d (<span style=\"color: #0087ff; text-decoration-color: #0087ff\">MaxPooling1D</span>)         │ (<span style=\"color: #00d7ff; text-decoration-color: #00d7ff\">None</span>, <span style=\"color: #00af00; text-decoration-color: #00af00\">31</span>, <span style=\"color: #00af00; text-decoration-color: #00af00\">128</span>)             │               <span style=\"color: #00af00; text-decoration-color: #00af00\">0</span> │\n",
       "├──────────────────────────────────────┼─────────────────────────────┼─────────────────┤\n",
       "│ dropout (<span style=\"color: #0087ff; text-decoration-color: #0087ff\">Dropout</span>)                    │ (<span style=\"color: #00d7ff; text-decoration-color: #00d7ff\">None</span>, <span style=\"color: #00af00; text-decoration-color: #00af00\">31</span>, <span style=\"color: #00af00; text-decoration-color: #00af00\">128</span>)             │               <span style=\"color: #00af00; text-decoration-color: #00af00\">0</span> │\n",
       "├──────────────────────────────────────┼─────────────────────────────┼─────────────────┤\n",
       "│ conv1d_2 (<span style=\"color: #0087ff; text-decoration-color: #0087ff\">Conv1D</span>)                    │ (<span style=\"color: #00d7ff; text-decoration-color: #00d7ff\">None</span>, <span style=\"color: #00af00; text-decoration-color: #00af00\">24</span>, <span style=\"color: #00af00; text-decoration-color: #00af00\">128</span>)             │         <span style=\"color: #00af00; text-decoration-color: #00af00\">131,200</span> │\n",
       "├──────────────────────────────────────┼─────────────────────────────┼─────────────────┤\n",
       "│ max_pooling1d_1 (<span style=\"color: #0087ff; text-decoration-color: #0087ff\">MaxPooling1D</span>)       │ (<span style=\"color: #00d7ff; text-decoration-color: #00d7ff\">None</span>, <span style=\"color: #00af00; text-decoration-color: #00af00\">6</span>, <span style=\"color: #00af00; text-decoration-color: #00af00\">128</span>)              │               <span style=\"color: #00af00; text-decoration-color: #00af00\">0</span> │\n",
       "├──────────────────────────────────────┼─────────────────────────────┼─────────────────┤\n",
       "│ dropout_1 (<span style=\"color: #0087ff; text-decoration-color: #0087ff\">Dropout</span>)                  │ (<span style=\"color: #00d7ff; text-decoration-color: #00d7ff\">None</span>, <span style=\"color: #00af00; text-decoration-color: #00af00\">6</span>, <span style=\"color: #00af00; text-decoration-color: #00af00\">128</span>)              │               <span style=\"color: #00af00; text-decoration-color: #00af00\">0</span> │\n",
       "├──────────────────────────────────────┼─────────────────────────────┼─────────────────┤\n",
       "│ batch_normalization                  │ (<span style=\"color: #00d7ff; text-decoration-color: #00d7ff\">None</span>, <span style=\"color: #00af00; text-decoration-color: #00af00\">6</span>, <span style=\"color: #00af00; text-decoration-color: #00af00\">128</span>)              │             <span style=\"color: #00af00; text-decoration-color: #00af00\">512</span> │\n",
       "│ (<span style=\"color: #0087ff; text-decoration-color: #0087ff\">BatchNormalization</span>)                 │                             │                 │\n",
       "├──────────────────────────────────────┼─────────────────────────────┼─────────────────┤\n",
       "│ lstm (<span style=\"color: #0087ff; text-decoration-color: #0087ff\">LSTM</span>)                          │ (<span style=\"color: #00d7ff; text-decoration-color: #00d7ff\">None</span>, <span style=\"color: #00af00; text-decoration-color: #00af00\">128</span>)                 │         <span style=\"color: #00af00; text-decoration-color: #00af00\">131,584</span> │\n",
       "├──────────────────────────────────────┼─────────────────────────────┼─────────────────┤\n",
       "│ dropout_2 (<span style=\"color: #0087ff; text-decoration-color: #0087ff\">Dropout</span>)                  │ (<span style=\"color: #00d7ff; text-decoration-color: #00d7ff\">None</span>, <span style=\"color: #00af00; text-decoration-color: #00af00\">128</span>)                 │               <span style=\"color: #00af00; text-decoration-color: #00af00\">0</span> │\n",
       "├──────────────────────────────────────┼─────────────────────────────┼─────────────────┤\n",
       "│ dense (<span style=\"color: #0087ff; text-decoration-color: #0087ff\">Dense</span>)                        │ (<span style=\"color: #00d7ff; text-decoration-color: #00d7ff\">None</span>, <span style=\"color: #00af00; text-decoration-color: #00af00\">256</span>)                 │          <span style=\"color: #00af00; text-decoration-color: #00af00\">33,024</span> │\n",
       "├──────────────────────────────────────┼─────────────────────────────┼─────────────────┤\n",
       "│ dropout_3 (<span style=\"color: #0087ff; text-decoration-color: #0087ff\">Dropout</span>)                  │ (<span style=\"color: #00d7ff; text-decoration-color: #00d7ff\">None</span>, <span style=\"color: #00af00; text-decoration-color: #00af00\">256</span>)                 │               <span style=\"color: #00af00; text-decoration-color: #00af00\">0</span> │\n",
       "├──────────────────────────────────────┼─────────────────────────────┼─────────────────┤\n",
       "│ dense_1 (<span style=\"color: #0087ff; text-decoration-color: #0087ff\">Dense</span>)                      │ (<span style=\"color: #00d7ff; text-decoration-color: #00d7ff\">None</span>, <span style=\"color: #00af00; text-decoration-color: #00af00\">5</span>)                   │           <span style=\"color: #00af00; text-decoration-color: #00af00\">1,285</span> │\n",
       "└──────────────────────────────────────┴─────────────────────────────┴─────────────────┘\n",
       "</pre>\n"
      ],
      "text/plain": [
       "┏━━━━━━━━━━━━━━━━━━━━━━━━━━━━━━━━━━━━━━┳━━━━━━━━━━━━━━━━━━━━━━━━━━━━━┳━━━━━━━━━━━━━━━━━┓\n",
       "┃\u001b[1m \u001b[0m\u001b[1mLayer (type)                        \u001b[0m\u001b[1m \u001b[0m┃\u001b[1m \u001b[0m\u001b[1mOutput Shape               \u001b[0m\u001b[1m \u001b[0m┃\u001b[1m \u001b[0m\u001b[1m        Param #\u001b[0m\u001b[1m \u001b[0m┃\n",
       "┡━━━━━━━━━━━━━━━━━━━━━━━━━━━━━━━━━━━━━━╇━━━━━━━━━━━━━━━━━━━━━━━━━━━━━╇━━━━━━━━━━━━━━━━━┩\n",
       "│ conv1d (\u001b[38;5;33mConv1D\u001b[0m)                      │ (\u001b[38;5;45mNone\u001b[0m, \u001b[38;5;34m134\u001b[0m, \u001b[38;5;34m64\u001b[0m)             │             \u001b[38;5;34m576\u001b[0m │\n",
       "├──────────────────────────────────────┼─────────────────────────────┼─────────────────┤\n",
       "│ conv1d_1 (\u001b[38;5;33mConv1D\u001b[0m)                    │ (\u001b[38;5;45mNone\u001b[0m, \u001b[38;5;34m127\u001b[0m, \u001b[38;5;34m128\u001b[0m)            │          \u001b[38;5;34m65,664\u001b[0m │\n",
       "├──────────────────────────────────────┼─────────────────────────────┼─────────────────┤\n",
       "│ max_pooling1d (\u001b[38;5;33mMaxPooling1D\u001b[0m)         │ (\u001b[38;5;45mNone\u001b[0m, \u001b[38;5;34m31\u001b[0m, \u001b[38;5;34m128\u001b[0m)             │               \u001b[38;5;34m0\u001b[0m │\n",
       "├──────────────────────────────────────┼─────────────────────────────┼─────────────────┤\n",
       "│ dropout (\u001b[38;5;33mDropout\u001b[0m)                    │ (\u001b[38;5;45mNone\u001b[0m, \u001b[38;5;34m31\u001b[0m, \u001b[38;5;34m128\u001b[0m)             │               \u001b[38;5;34m0\u001b[0m │\n",
       "├──────────────────────────────────────┼─────────────────────────────┼─────────────────┤\n",
       "│ conv1d_2 (\u001b[38;5;33mConv1D\u001b[0m)                    │ (\u001b[38;5;45mNone\u001b[0m, \u001b[38;5;34m24\u001b[0m, \u001b[38;5;34m128\u001b[0m)             │         \u001b[38;5;34m131,200\u001b[0m │\n",
       "├──────────────────────────────────────┼─────────────────────────────┼─────────────────┤\n",
       "│ max_pooling1d_1 (\u001b[38;5;33mMaxPooling1D\u001b[0m)       │ (\u001b[38;5;45mNone\u001b[0m, \u001b[38;5;34m6\u001b[0m, \u001b[38;5;34m128\u001b[0m)              │               \u001b[38;5;34m0\u001b[0m │\n",
       "├──────────────────────────────────────┼─────────────────────────────┼─────────────────┤\n",
       "│ dropout_1 (\u001b[38;5;33mDropout\u001b[0m)                  │ (\u001b[38;5;45mNone\u001b[0m, \u001b[38;5;34m6\u001b[0m, \u001b[38;5;34m128\u001b[0m)              │               \u001b[38;5;34m0\u001b[0m │\n",
       "├──────────────────────────────────────┼─────────────────────────────┼─────────────────┤\n",
       "│ batch_normalization                  │ (\u001b[38;5;45mNone\u001b[0m, \u001b[38;5;34m6\u001b[0m, \u001b[38;5;34m128\u001b[0m)              │             \u001b[38;5;34m512\u001b[0m │\n",
       "│ (\u001b[38;5;33mBatchNormalization\u001b[0m)                 │                             │                 │\n",
       "├──────────────────────────────────────┼─────────────────────────────┼─────────────────┤\n",
       "│ lstm (\u001b[38;5;33mLSTM\u001b[0m)                          │ (\u001b[38;5;45mNone\u001b[0m, \u001b[38;5;34m128\u001b[0m)                 │         \u001b[38;5;34m131,584\u001b[0m │\n",
       "├──────────────────────────────────────┼─────────────────────────────┼─────────────────┤\n",
       "│ dropout_2 (\u001b[38;5;33mDropout\u001b[0m)                  │ (\u001b[38;5;45mNone\u001b[0m, \u001b[38;5;34m128\u001b[0m)                 │               \u001b[38;5;34m0\u001b[0m │\n",
       "├──────────────────────────────────────┼─────────────────────────────┼─────────────────┤\n",
       "│ dense (\u001b[38;5;33mDense\u001b[0m)                        │ (\u001b[38;5;45mNone\u001b[0m, \u001b[38;5;34m256\u001b[0m)                 │          \u001b[38;5;34m33,024\u001b[0m │\n",
       "├──────────────────────────────────────┼─────────────────────────────┼─────────────────┤\n",
       "│ dropout_3 (\u001b[38;5;33mDropout\u001b[0m)                  │ (\u001b[38;5;45mNone\u001b[0m, \u001b[38;5;34m256\u001b[0m)                 │               \u001b[38;5;34m0\u001b[0m │\n",
       "├──────────────────────────────────────┼─────────────────────────────┼─────────────────┤\n",
       "│ dense_1 (\u001b[38;5;33mDense\u001b[0m)                      │ (\u001b[38;5;45mNone\u001b[0m, \u001b[38;5;34m5\u001b[0m)                   │           \u001b[38;5;34m1,285\u001b[0m │\n",
       "└──────────────────────────────────────┴─────────────────────────────┴─────────────────┘\n"
      ]
     },
     "metadata": {},
     "output_type": "display_data"
    },
    {
     "data": {
      "text/html": [
       "<pre style=\"white-space:pre;overflow-x:auto;line-height:normal;font-family:Menlo,'DejaVu Sans Mono',consolas,'Courier New',monospace\"><span style=\"font-weight: bold\"> Total params: </span><span style=\"color: #00af00; text-decoration-color: #00af00\">363,845</span> (1.39 MB)\n",
       "</pre>\n"
      ],
      "text/plain": [
       "\u001b[1m Total params: \u001b[0m\u001b[38;5;34m363,845\u001b[0m (1.39 MB)\n"
      ]
     },
     "metadata": {},
     "output_type": "display_data"
    },
    {
     "data": {
      "text/html": [
       "<pre style=\"white-space:pre;overflow-x:auto;line-height:normal;font-family:Menlo,'DejaVu Sans Mono',consolas,'Courier New',monospace\"><span style=\"font-weight: bold\"> Trainable params: </span><span style=\"color: #00af00; text-decoration-color: #00af00\">363,589</span> (1.39 MB)\n",
       "</pre>\n"
      ],
      "text/plain": [
       "\u001b[1m Trainable params: \u001b[0m\u001b[38;5;34m363,589\u001b[0m (1.39 MB)\n"
      ]
     },
     "metadata": {},
     "output_type": "display_data"
    },
    {
     "data": {
      "text/html": [
       "<pre style=\"white-space:pre;overflow-x:auto;line-height:normal;font-family:Menlo,'DejaVu Sans Mono',consolas,'Courier New',monospace\"><span style=\"font-weight: bold\"> Non-trainable params: </span><span style=\"color: #00af00; text-decoration-color: #00af00\">256</span> (1.00 KB)\n",
       "</pre>\n"
      ],
      "text/plain": [
       "\u001b[1m Non-trainable params: \u001b[0m\u001b[38;5;34m256\u001b[0m (1.00 KB)\n"
      ]
     },
     "metadata": {},
     "output_type": "display_data"
    }
   ],
   "source": [
    "model.summary()"
   ]
  },
  {
   "cell_type": "code",
   "execution_count": 35,
   "id": "9ddab13e",
   "metadata": {
    "execution": {
     "iopub.execute_input": "2025-01-04T15:42:59.904812Z",
     "iopub.status.busy": "2025-01-04T15:42:59.904370Z",
     "iopub.status.idle": "2025-01-04T15:42:59.915824Z",
     "shell.execute_reply": "2025-01-04T15:42:59.914871Z"
    },
    "papermill": {
     "duration": 0.026883,
     "end_time": "2025-01-04T15:42:59.917570",
     "exception": false,
     "start_time": "2025-01-04T15:42:59.890687",
     "status": "completed"
    },
    "tags": []
   },
   "outputs": [],
   "source": [
    "# Callbacks\n",
    "import h5py\n",
    "from tensorflow.keras.callbacks import EarlyStopping\n",
    "from tensorflow.keras.callbacks import Callback\n",
    "from sklearn.metrics import f1_score\n",
    "\n",
    "class F1(Callback):\n",
    "    def __init__(self,x_train, y_train,x_test, y_test):\n",
    "        self.x = x_train\n",
    "        self.y = y_train\n",
    "        self.x_val = x_test\n",
    "        self.y_val = y_test\n",
    "\n",
    "      #def on_train_begin(self, logs={}):\n",
    "        #self.val_f1s = []\n",
    "\n",
    "\n",
    "    def on_epoch_end(self, epoch, logs={}):\n",
    "\n",
    "        val_predict = (np.asarray(self.model.predict(self.x_val))).round()\n",
    "        val_targ = self.y_val\n",
    "\n",
    "        _val_f1 = round(f1_score(val_targ, val_predict, average= 'micro'), 4)\n",
    "\n",
    "        #self.val_f1s.append(_val_f1)\n",
    "\n",
    "        print('f1_score:{}'.format(_val_f1))\n",
    "\n",
    "F1 = F1(X_train, y_train,X_test, y_test)\n",
    "\n",
    "#es = EarlyStopping(monitor= 'val_precision', patience= 3)\n",
    "from tensorflow.keras.callbacks import ModelCheckpoint\n",
    "mc = ModelCheckpoint('best_model.h5.keras', monitor= 'f1_score')"
   ]
  },
  {
   "cell_type": "code",
   "execution_count": 36,
   "id": "6b0ab96f",
   "metadata": {
    "execution": {
     "iopub.execute_input": "2025-01-04T15:42:59.944042Z",
     "iopub.status.busy": "2025-01-04T15:42:59.943678Z",
     "iopub.status.idle": "2025-01-04T15:42:59.947698Z",
     "shell.execute_reply": "2025-01-04T15:42:59.946785Z"
    },
    "papermill": {
     "duration": 0.019193,
     "end_time": "2025-01-04T15:42:59.949344",
     "exception": false,
     "start_time": "2025-01-04T15:42:59.930151",
     "status": "completed"
    },
    "tags": []
   },
   "outputs": [],
   "source": [
    "all= [F1,mc]"
   ]
  },
  {
   "cell_type": "code",
   "execution_count": 37,
   "id": "34e6079b",
   "metadata": {
    "execution": {
     "iopub.execute_input": "2025-01-04T15:42:59.975416Z",
     "iopub.status.busy": "2025-01-04T15:42:59.975054Z",
     "iopub.status.idle": "2025-01-04T15:45:40.593304Z",
     "shell.execute_reply": "2025-01-04T15:45:40.592253Z"
    },
    "papermill": {
     "duration": 160.633337,
     "end_time": "2025-01-04T15:45:40.594978",
     "exception": false,
     "start_time": "2025-01-04T15:42:59.961641",
     "status": "completed"
    },
    "tags": []
   },
   "outputs": [
    {
     "name": "stdout",
     "output_type": "stream",
     "text": [
      "Epoch 1/50\n",
      "\u001b[1m18/18\u001b[0m \u001b[32m━━━━━━━━━━━━━━━━━━━━\u001b[0m\u001b[37m\u001b[0m \u001b[1m1s\u001b[0m 24ms/step\n",
      "f1_score:0.0\n",
      "\u001b[1m72/72\u001b[0m \u001b[32m━━━━━━━━━━━━━━━━━━━━\u001b[0m\u001b[37m\u001b[0m \u001b[1m8s\u001b[0m 56ms/step - loss: 1.5354 - precision: 0.5429 - val_loss: 1.5728 - val_precision: 0.0000e+00\n",
      "Epoch 2/50\n",
      "\u001b[1m18/18\u001b[0m \u001b[32m━━━━━━━━━━━━━━━━━━━━\u001b[0m\u001b[37m\u001b[0m \u001b[1m0s\u001b[0m 12ms/step\n",
      "f1_score:0.0\n",
      "\u001b[1m72/72\u001b[0m \u001b[32m━━━━━━━━━━━━━━━━━━━━\u001b[0m\u001b[37m\u001b[0m \u001b[1m3s\u001b[0m 43ms/step - loss: 1.3913 - precision: 0.8051 - val_loss: 1.5237 - val_precision: 0.0000e+00\n",
      "Epoch 3/50\n",
      "\u001b[1m18/18\u001b[0m \u001b[32m━━━━━━━━━━━━━━━━━━━━\u001b[0m\u001b[37m\u001b[0m \u001b[1m0s\u001b[0m 11ms/step\n",
      "f1_score:0.0207\n",
      "\u001b[1m72/72\u001b[0m \u001b[32m━━━━━━━━━━━━━━━━━━━━\u001b[0m\u001b[37m\u001b[0m \u001b[1m3s\u001b[0m 42ms/step - loss: 1.2583 - precision: 0.8526 - val_loss: 1.4513 - val_precision: 0.8571\n",
      "Epoch 4/50\n",
      "\u001b[1m18/18\u001b[0m \u001b[32m━━━━━━━━━━━━━━━━━━━━\u001b[0m\u001b[37m\u001b[0m \u001b[1m0s\u001b[0m 11ms/step\n",
      "f1_score:0.0992\n",
      "\u001b[1m72/72\u001b[0m \u001b[32m━━━━━━━━━━━━━━━━━━━━\u001b[0m\u001b[37m\u001b[0m \u001b[1m3s\u001b[0m 42ms/step - loss: 1.0802 - precision: 0.8248 - val_loss: 1.3583 - val_precision: 0.9375\n",
      "Epoch 5/50\n",
      "\u001b[1m18/18\u001b[0m \u001b[32m━━━━━━━━━━━━━━━━━━━━\u001b[0m\u001b[37m\u001b[0m \u001b[1m0s\u001b[0m 11ms/step\n",
      "f1_score:0.1975\n",
      "\u001b[1m72/72\u001b[0m \u001b[32m━━━━━━━━━━━━━━━━━━━━\u001b[0m\u001b[37m\u001b[0m \u001b[1m3s\u001b[0m 42ms/step - loss: 0.9413 - precision: 0.7605 - val_loss: 1.2115 - val_precision: 0.9692\n",
      "Epoch 6/50\n",
      "\u001b[1m18/18\u001b[0m \u001b[32m━━━━━━━━━━━━━━━━━━━━\u001b[0m\u001b[37m\u001b[0m \u001b[1m0s\u001b[0m 11ms/step\n",
      "f1_score:0.2827\n",
      "\u001b[1m72/72\u001b[0m \u001b[32m━━━━━━━━━━━━━━━━━━━━\u001b[0m\u001b[37m\u001b[0m \u001b[1m3s\u001b[0m 43ms/step - loss: 0.8399 - precision: 0.8191 - val_loss: 1.0476 - val_precision: 0.9596\n",
      "Epoch 7/50\n",
      "\u001b[1m18/18\u001b[0m \u001b[32m━━━━━━━━━━━━━━━━━━━━\u001b[0m\u001b[37m\u001b[0m \u001b[1m0s\u001b[0m 11ms/step\n",
      "f1_score:0.5976\n",
      "\u001b[1m72/72\u001b[0m \u001b[32m━━━━━━━━━━━━━━━━━━━━\u001b[0m\u001b[37m\u001b[0m \u001b[1m3s\u001b[0m 42ms/step - loss: 0.7960 - precision: 0.8381 - val_loss: 0.8597 - val_precision: 0.9650\n",
      "Epoch 8/50\n",
      "\u001b[1m18/18\u001b[0m \u001b[32m━━━━━━━━━━━━━━━━━━━━\u001b[0m\u001b[37m\u001b[0m \u001b[1m0s\u001b[0m 11ms/step\n",
      "f1_score:0.6806\n",
      "\u001b[1m72/72\u001b[0m \u001b[32m━━━━━━━━━━━━━━━━━━━━\u001b[0m\u001b[37m\u001b[0m \u001b[1m3s\u001b[0m 42ms/step - loss: 0.7166 - precision: 0.8338 - val_loss: 0.7293 - val_precision: 0.9172\n",
      "Epoch 9/50\n",
      "\u001b[1m18/18\u001b[0m \u001b[32m━━━━━━━━━━━━━━━━━━━━\u001b[0m\u001b[37m\u001b[0m \u001b[1m0s\u001b[0m 14ms/step\n",
      "f1_score:0.7421\n",
      "\u001b[1m72/72\u001b[0m \u001b[32m━━━━━━━━━━━━━━━━━━━━\u001b[0m\u001b[37m\u001b[0m \u001b[1m3s\u001b[0m 47ms/step - loss: 0.6828 - precision: 0.8616 - val_loss: 0.6387 - val_precision: 0.8922\n",
      "Epoch 10/50\n",
      "\u001b[1m18/18\u001b[0m \u001b[32m━━━━━━━━━━━━━━━━━━━━\u001b[0m\u001b[37m\u001b[0m \u001b[1m0s\u001b[0m 11ms/step\n",
      "f1_score:0.7737\n",
      "\u001b[1m72/72\u001b[0m \u001b[32m━━━━━━━━━━━━━━━━━━━━\u001b[0m\u001b[37m\u001b[0m \u001b[1m3s\u001b[0m 43ms/step - loss: 0.6316 - precision: 0.8449 - val_loss: 0.5754 - val_precision: 0.9185\n",
      "Epoch 11/50\n",
      "\u001b[1m18/18\u001b[0m \u001b[32m━━━━━━━━━━━━━━━━━━━━\u001b[0m\u001b[37m\u001b[0m \u001b[1m0s\u001b[0m 11ms/step\n",
      "f1_score:0.7803\n",
      "\u001b[1m72/72\u001b[0m \u001b[32m━━━━━━━━━━━━━━━━━━━━\u001b[0m\u001b[37m\u001b[0m \u001b[1m3s\u001b[0m 42ms/step - loss: 0.5907 - precision: 0.8816 - val_loss: 0.5537 - val_precision: 0.9175\n",
      "Epoch 12/50\n",
      "\u001b[1m18/18\u001b[0m \u001b[32m━━━━━━━━━━━━━━━━━━━━\u001b[0m\u001b[37m\u001b[0m \u001b[1m0s\u001b[0m 11ms/step\n",
      "f1_score:0.7248\n",
      "\u001b[1m72/72\u001b[0m \u001b[32m━━━━━━━━━━━━━━━━━━━━\u001b[0m\u001b[37m\u001b[0m \u001b[1m3s\u001b[0m 43ms/step - loss: 0.5669 - precision: 0.8887 - val_loss: 0.6526 - val_precision: 0.8043\n",
      "Epoch 13/50\n",
      "\u001b[1m18/18\u001b[0m \u001b[32m━━━━━━━━━━━━━━━━━━━━\u001b[0m\u001b[37m\u001b[0m \u001b[1m0s\u001b[0m 11ms/step\n",
      "f1_score:0.81\n",
      "\u001b[1m72/72\u001b[0m \u001b[32m━━━━━━━━━━━━━━━━━━━━\u001b[0m\u001b[37m\u001b[0m \u001b[1m3s\u001b[0m 42ms/step - loss: 0.5474 - precision: 0.8994 - val_loss: 0.4929 - val_precision: 0.9421\n",
      "Epoch 14/50\n",
      "\u001b[1m18/18\u001b[0m \u001b[32m━━━━━━━━━━━━━━━━━━━━\u001b[0m\u001b[37m\u001b[0m \u001b[1m0s\u001b[0m 11ms/step\n",
      "f1_score:0.7935\n",
      "\u001b[1m72/72\u001b[0m \u001b[32m━━━━━━━━━━━━━━━━━━━━\u001b[0m\u001b[37m\u001b[0m \u001b[1m3s\u001b[0m 42ms/step - loss: 0.5007 - precision: 0.9016 - val_loss: 0.5187 - val_precision: 0.8774\n",
      "Epoch 15/50\n",
      "\u001b[1m18/18\u001b[0m \u001b[32m━━━━━━━━━━━━━━━━━━━━\u001b[0m\u001b[37m\u001b[0m \u001b[1m0s\u001b[0m 11ms/step\n",
      "f1_score:0.8133\n",
      "\u001b[1m72/72\u001b[0m \u001b[32m━━━━━━━━━━━━━━━━━━━━\u001b[0m\u001b[37m\u001b[0m \u001b[1m3s\u001b[0m 43ms/step - loss: 0.5241 - precision: 0.9059 - val_loss: 0.4760 - val_precision: 0.9244\n",
      "Epoch 16/50\n",
      "\u001b[1m18/18\u001b[0m \u001b[32m━━━━━━━━━━━━━━━━━━━━\u001b[0m\u001b[37m\u001b[0m \u001b[1m0s\u001b[0m 11ms/step\n",
      "f1_score:0.8019\n",
      "\u001b[1m72/72\u001b[0m \u001b[32m━━━━━━━━━━━━━━━━━━━━\u001b[0m\u001b[37m\u001b[0m \u001b[1m3s\u001b[0m 42ms/step - loss: 0.5032 - precision: 0.9192 - val_loss: 0.5131 - val_precision: 0.8826\n",
      "Epoch 17/50\n",
      "\u001b[1m18/18\u001b[0m \u001b[32m━━━━━━━━━━━━━━━━━━━━\u001b[0m\u001b[37m\u001b[0m \u001b[1m0s\u001b[0m 11ms/step\n",
      "f1_score:0.824\n",
      "\u001b[1m72/72\u001b[0m \u001b[32m━━━━━━━━━━━━━━━━━━━━\u001b[0m\u001b[37m\u001b[0m \u001b[1m3s\u001b[0m 42ms/step - loss: 0.4769 - precision: 0.9211 - val_loss: 0.4687 - val_precision: 0.9241\n",
      "Epoch 18/50\n",
      "\u001b[1m18/18\u001b[0m \u001b[32m━━━━━━━━━━━━━━━━━━━━\u001b[0m\u001b[37m\u001b[0m \u001b[1m0s\u001b[0m 12ms/step\n",
      "f1_score:0.8012\n",
      "\u001b[1m72/72\u001b[0m \u001b[32m━━━━━━━━━━━━━━━━━━━━\u001b[0m\u001b[37m\u001b[0m \u001b[1m3s\u001b[0m 42ms/step - loss: 0.4606 - precision: 0.9122 - val_loss: 0.4732 - val_precision: 0.9369\n",
      "Epoch 19/50\n",
      "\u001b[1m18/18\u001b[0m \u001b[32m━━━━━━━━━━━━━━━━━━━━\u001b[0m\u001b[37m\u001b[0m \u001b[1m0s\u001b[0m 11ms/step\n",
      "f1_score:0.7894\n",
      "\u001b[1m72/72\u001b[0m \u001b[32m━━━━━━━━━━━━━━━━━━━━\u001b[0m\u001b[37m\u001b[0m \u001b[1m3s\u001b[0m 43ms/step - loss: 0.4818 - precision: 0.9084 - val_loss: 0.4876 - val_precision: 0.9052\n",
      "Epoch 20/50\n",
      "\u001b[1m18/18\u001b[0m \u001b[32m━━━━━━━━━━━━━━━━━━━━\u001b[0m\u001b[37m\u001b[0m \u001b[1m0s\u001b[0m 11ms/step\n",
      "f1_score:0.8165\n",
      "\u001b[1m72/72\u001b[0m \u001b[32m━━━━━━━━━━━━━━━━━━━━\u001b[0m\u001b[37m\u001b[0m \u001b[1m4s\u001b[0m 49ms/step - loss: 0.4639 - precision: 0.9293 - val_loss: 0.4546 - val_precision: 0.9327\n",
      "Epoch 21/50\n",
      "\u001b[1m18/18\u001b[0m \u001b[32m━━━━━━━━━━━━━━━━━━━━\u001b[0m\u001b[37m\u001b[0m \u001b[1m0s\u001b[0m 11ms/step\n",
      "f1_score:0.7741\n",
      "\u001b[1m72/72\u001b[0m \u001b[32m━━━━━━━━━━━━━━━━━━━━\u001b[0m\u001b[37m\u001b[0m \u001b[1m3s\u001b[0m 42ms/step - loss: 0.4393 - precision: 0.9227 - val_loss: 0.5246 - val_precision: 0.8529\n",
      "Epoch 22/50\n",
      "\u001b[1m18/18\u001b[0m \u001b[32m━━━━━━━━━━━━━━━━━━━━\u001b[0m\u001b[37m\u001b[0m \u001b[1m0s\u001b[0m 11ms/step\n",
      "f1_score:0.8117\n",
      "\u001b[1m72/72\u001b[0m \u001b[32m━━━━━━━━━━━━━━━━━━━━\u001b[0m\u001b[37m\u001b[0m \u001b[1m3s\u001b[0m 43ms/step - loss: 0.4540 - precision: 0.9216 - val_loss: 0.4711 - val_precision: 0.9204\n",
      "Epoch 23/50\n",
      "\u001b[1m18/18\u001b[0m \u001b[32m━━━━━━━━━━━━━━━━━━━━\u001b[0m\u001b[37m\u001b[0m \u001b[1m0s\u001b[0m 11ms/step\n",
      "f1_score:0.8146\n",
      "\u001b[1m72/72\u001b[0m \u001b[32m━━━━━━━━━━━━━━━━━━━━\u001b[0m\u001b[37m\u001b[0m \u001b[1m3s\u001b[0m 42ms/step - loss: 0.4514 - precision: 0.9380 - val_loss: 0.4641 - val_precision: 0.9060\n",
      "Epoch 24/50\n",
      "\u001b[1m18/18\u001b[0m \u001b[32m━━━━━━━━━━━━━━━━━━━━\u001b[0m\u001b[37m\u001b[0m \u001b[1m0s\u001b[0m 11ms/step\n",
      "f1_score:0.8158\n",
      "\u001b[1m72/72\u001b[0m \u001b[32m━━━━━━━━━━━━━━━━━━━━\u001b[0m\u001b[37m\u001b[0m \u001b[1m3s\u001b[0m 42ms/step - loss: 0.4137 - precision: 0.9409 - val_loss: 0.4420 - val_precision: 0.9367\n",
      "Epoch 25/50\n",
      "\u001b[1m18/18\u001b[0m \u001b[32m━━━━━━━━━━━━━━━━━━━━\u001b[0m\u001b[37m\u001b[0m \u001b[1m0s\u001b[0m 11ms/step\n",
      "f1_score:0.8227\n",
      "\u001b[1m72/72\u001b[0m \u001b[32m━━━━━━━━━━━━━━━━━━━━\u001b[0m\u001b[37m\u001b[0m \u001b[1m3s\u001b[0m 43ms/step - loss: 0.4260 - precision: 0.9486 - val_loss: 0.4373 - val_precision: 0.9375\n",
      "Epoch 26/50\n",
      "\u001b[1m18/18\u001b[0m \u001b[32m━━━━━━━━━━━━━━━━━━━━\u001b[0m\u001b[37m\u001b[0m \u001b[1m0s\u001b[0m 11ms/step\n",
      "f1_score:0.8105\n",
      "\u001b[1m72/72\u001b[0m \u001b[32m━━━━━━━━━━━━━━━━━━━━\u001b[0m\u001b[37m\u001b[0m \u001b[1m3s\u001b[0m 42ms/step - loss: 0.4438 - precision: 0.9336 - val_loss: 0.4598 - val_precision: 0.9202\n",
      "Epoch 27/50\n",
      "\u001b[1m18/18\u001b[0m \u001b[32m━━━━━━━━━━━━━━━━━━━━\u001b[0m\u001b[37m\u001b[0m \u001b[1m0s\u001b[0m 11ms/step\n",
      "f1_score:0.815\n",
      "\u001b[1m72/72\u001b[0m \u001b[32m━━━━━━━━━━━━━━━━━━━━\u001b[0m\u001b[37m\u001b[0m \u001b[1m3s\u001b[0m 42ms/step - loss: 0.4226 - precision: 0.9377 - val_loss: 0.4529 - val_precision: 0.9345\n",
      "Epoch 28/50\n",
      "\u001b[1m18/18\u001b[0m \u001b[32m━━━━━━━━━━━━━━━━━━━━\u001b[0m\u001b[37m\u001b[0m \u001b[1m0s\u001b[0m 11ms/step\n",
      "f1_score:0.8173\n",
      "\u001b[1m72/72\u001b[0m \u001b[32m━━━━━━━━━━━━━━━━━━━━\u001b[0m\u001b[37m\u001b[0m \u001b[1m3s\u001b[0m 43ms/step - loss: 0.4330 - precision: 0.9303 - val_loss: 0.4330 - val_precision: 0.9348\n",
      "Epoch 29/50\n",
      "\u001b[1m18/18\u001b[0m \u001b[32m━━━━━━━━━━━━━━━━━━━━\u001b[0m\u001b[37m\u001b[0m \u001b[1m0s\u001b[0m 11ms/step\n",
      "f1_score:0.8119\n",
      "\u001b[1m72/72\u001b[0m \u001b[32m━━━━━━━━━━━━━━━━━━━━\u001b[0m\u001b[37m\u001b[0m \u001b[1m3s\u001b[0m 42ms/step - loss: 0.4151 - precision: 0.9309 - val_loss: 0.4271 - val_precision: 0.9444\n",
      "Epoch 30/50\n",
      "\u001b[1m18/18\u001b[0m \u001b[32m━━━━━━━━━━━━━━━━━━━━\u001b[0m\u001b[37m\u001b[0m \u001b[1m0s\u001b[0m 14ms/step\n",
      "f1_score:0.8238\n",
      "\u001b[1m72/72\u001b[0m \u001b[32m━━━━━━━━━━━━━━━━━━━━\u001b[0m\u001b[37m\u001b[0m \u001b[1m3s\u001b[0m 47ms/step - loss: 0.3876 - precision: 0.9394 - val_loss: 0.4189 - val_precision: 0.9317\n",
      "Epoch 31/50\n",
      "\u001b[1m18/18\u001b[0m \u001b[32m━━━━━━━━━━━━━━━━━━━━\u001b[0m\u001b[37m\u001b[0m \u001b[1m0s\u001b[0m 11ms/step\n",
      "f1_score:0.8231\n",
      "\u001b[1m72/72\u001b[0m \u001b[32m━━━━━━━━━━━━━━━━━━━━\u001b[0m\u001b[37m\u001b[0m \u001b[1m3s\u001b[0m 43ms/step - loss: 0.4101 - precision: 0.9291 - val_loss: 0.4124 - val_precision: 0.9356\n",
      "Epoch 32/50\n",
      "\u001b[1m18/18\u001b[0m \u001b[32m━━━━━━━━━━━━━━━━━━━━\u001b[0m\u001b[37m\u001b[0m \u001b[1m0s\u001b[0m 11ms/step\n",
      "f1_score:0.8137\n",
      "\u001b[1m72/72\u001b[0m \u001b[32m━━━━━━━━━━━━━━━━━━━━\u001b[0m\u001b[37m\u001b[0m \u001b[1m3s\u001b[0m 42ms/step - loss: 0.3898 - precision: 0.9461 - val_loss: 0.4451 - val_precision: 0.9226\n",
      "Epoch 33/50\n",
      "\u001b[1m18/18\u001b[0m \u001b[32m━━━━━━━━━━━━━━━━━━━━\u001b[0m\u001b[37m\u001b[0m \u001b[1m0s\u001b[0m 11ms/step\n",
      "f1_score:0.825\n",
      "\u001b[1m72/72\u001b[0m \u001b[32m━━━━━━━━━━━━━━━━━━━━\u001b[0m\u001b[37m\u001b[0m \u001b[1m3s\u001b[0m 42ms/step - loss: 0.3964 - precision: 0.9303 - val_loss: 0.3980 - val_precision: 0.9378\n",
      "Epoch 34/50\n",
      "\u001b[1m18/18\u001b[0m \u001b[32m━━━━━━━━━━━━━━━━━━━━\u001b[0m\u001b[37m\u001b[0m \u001b[1m0s\u001b[0m 11ms/step\n",
      "f1_score:0.8332\n",
      "\u001b[1m72/72\u001b[0m \u001b[32m━━━━━━━━━━━━━━━━━━━━\u001b[0m\u001b[37m\u001b[0m \u001b[1m3s\u001b[0m 42ms/step - loss: 0.3855 - precision: 0.9334 - val_loss: 0.4066 - val_precision: 0.9310\n",
      "Epoch 35/50\n",
      "\u001b[1m18/18\u001b[0m \u001b[32m━━━━━━━━━━━━━━━━━━━━\u001b[0m\u001b[37m\u001b[0m \u001b[1m0s\u001b[0m 11ms/step\n",
      "f1_score:0.825\n",
      "\u001b[1m72/72\u001b[0m \u001b[32m━━━━━━━━━━━━━━━━━━━━\u001b[0m\u001b[37m\u001b[0m \u001b[1m3s\u001b[0m 43ms/step - loss: 0.4036 - precision: 0.9281 - val_loss: 0.4013 - val_precision: 0.9378\n",
      "Epoch 36/50\n",
      "\u001b[1m18/18\u001b[0m \u001b[32m━━━━━━━━━━━━━━━━━━━━\u001b[0m\u001b[37m\u001b[0m \u001b[1m0s\u001b[0m 11ms/step\n",
      "f1_score:0.8289\n",
      "\u001b[1m72/72\u001b[0m \u001b[32m━━━━━━━━━━━━━━━━━━━━\u001b[0m\u001b[37m\u001b[0m \u001b[1m3s\u001b[0m 42ms/step - loss: 0.4051 - precision: 0.9339 - val_loss: 0.4495 - val_precision: 0.9102\n",
      "Epoch 37/50\n",
      "\u001b[1m18/18\u001b[0m \u001b[32m━━━━━━━━━━━━━━━━━━━━\u001b[0m\u001b[37m\u001b[0m \u001b[1m0s\u001b[0m 11ms/step\n",
      "f1_score:0.8385\n",
      "\u001b[1m72/72\u001b[0m \u001b[32m━━━━━━━━━━━━━━━━━━━━\u001b[0m\u001b[37m\u001b[0m \u001b[1m3s\u001b[0m 42ms/step - loss: 0.3858 - precision: 0.9328 - val_loss: 0.3949 - val_precision: 0.9336\n",
      "Epoch 38/50\n",
      "\u001b[1m18/18\u001b[0m \u001b[32m━━━━━━━━━━━━━━━━━━━━\u001b[0m\u001b[37m\u001b[0m \u001b[1m0s\u001b[0m 11ms/step\n",
      "f1_score:0.8248\n",
      "\u001b[1m72/72\u001b[0m \u001b[32m━━━━━━━━━━━━━━━━━━━━\u001b[0m\u001b[37m\u001b[0m \u001b[1m3s\u001b[0m 44ms/step - loss: 0.3952 - precision: 0.9255 - val_loss: 0.4185 - val_precision: 0.9261\n",
      "Epoch 39/50\n",
      "\u001b[1m18/18\u001b[0m \u001b[32m━━━━━━━━━━━━━━━━━━━━\u001b[0m\u001b[37m\u001b[0m \u001b[1m0s\u001b[0m 11ms/step\n",
      "f1_score:0.8322\n",
      "\u001b[1m72/72\u001b[0m \u001b[32m━━━━━━━━━━━━━━━━━━━━\u001b[0m\u001b[37m\u001b[0m \u001b[1m3s\u001b[0m 44ms/step - loss: 0.3858 - precision: 0.9333 - val_loss: 0.3890 - val_precision: 0.9367\n",
      "Epoch 40/50\n",
      "\u001b[1m18/18\u001b[0m \u001b[32m━━━━━━━━━━━━━━━━━━━━\u001b[0m\u001b[37m\u001b[0m \u001b[1m0s\u001b[0m 11ms/step\n",
      "f1_score:0.8375\n",
      "\u001b[1m72/72\u001b[0m \u001b[32m━━━━━━━━━━━━━━━━━━━━\u001b[0m\u001b[37m\u001b[0m \u001b[1m3s\u001b[0m 43ms/step - loss: 0.3746 - precision: 0.9455 - val_loss: 0.3897 - val_precision: 0.9393\n",
      "Epoch 41/50\n",
      "\u001b[1m18/18\u001b[0m \u001b[32m━━━━━━━━━━━━━━━━━━━━\u001b[0m\u001b[37m\u001b[0m \u001b[1m0s\u001b[0m 11ms/step\n",
      "f1_score:0.84\n",
      "\u001b[1m72/72\u001b[0m \u001b[32m━━━━━━━━━━━━━━━━━━━━\u001b[0m\u001b[37m\u001b[0m \u001b[1m4s\u001b[0m 50ms/step - loss: 0.3801 - precision: 0.9383 - val_loss: 0.3884 - val_precision: 0.9245\n",
      "Epoch 42/50\n",
      "\u001b[1m18/18\u001b[0m \u001b[32m━━━━━━━━━━━━━━━━━━━━\u001b[0m\u001b[37m\u001b[0m \u001b[1m0s\u001b[0m 11ms/step\n",
      "f1_score:0.8317\n",
      "\u001b[1m72/72\u001b[0m \u001b[32m━━━━━━━━━━━━━━━━━━━━\u001b[0m\u001b[37m\u001b[0m \u001b[1m3s\u001b[0m 42ms/step - loss: 0.3476 - precision: 0.9417 - val_loss: 0.3838 - val_precision: 0.9465\n",
      "Epoch 43/50\n",
      "\u001b[1m18/18\u001b[0m \u001b[32m━━━━━━━━━━━━━━━━━━━━\u001b[0m\u001b[37m\u001b[0m \u001b[1m0s\u001b[0m 11ms/step\n",
      "f1_score:0.8275\n",
      "\u001b[1m72/72\u001b[0m \u001b[32m━━━━━━━━━━━━━━━━━━━━\u001b[0m\u001b[37m\u001b[0m \u001b[1m3s\u001b[0m 44ms/step - loss: 0.3814 - precision: 0.9437 - val_loss: 0.3744 - val_precision: 0.9441\n",
      "Epoch 44/50\n",
      "\u001b[1m18/18\u001b[0m \u001b[32m━━━━━━━━━━━━━━━━━━━━\u001b[0m\u001b[37m\u001b[0m \u001b[1m0s\u001b[0m 11ms/step\n",
      "f1_score:0.828\n",
      "\u001b[1m72/72\u001b[0m \u001b[32m━━━━━━━━━━━━━━━━━━━━\u001b[0m\u001b[37m\u001b[0m \u001b[1m3s\u001b[0m 43ms/step - loss: 0.3658 - precision: 0.9457 - val_loss: 0.3873 - val_precision: 0.9342\n",
      "Epoch 45/50\n",
      "\u001b[1m18/18\u001b[0m \u001b[32m━━━━━━━━━━━━━━━━━━━━\u001b[0m\u001b[37m\u001b[0m \u001b[1m0s\u001b[0m 11ms/step\n",
      "f1_score:0.8317\n",
      "\u001b[1m72/72\u001b[0m \u001b[32m━━━━━━━━━━━━━━━━━━━━\u001b[0m\u001b[37m\u001b[0m \u001b[1m3s\u001b[0m 43ms/step - loss: 0.3644 - precision: 0.9337 - val_loss: 0.4132 - val_precision: 0.9197\n",
      "Epoch 46/50\n",
      "\u001b[1m18/18\u001b[0m \u001b[32m━━━━━━━━━━━━━━━━━━━━\u001b[0m\u001b[37m\u001b[0m \u001b[1m0s\u001b[0m 11ms/step\n",
      "f1_score:0.843\n",
      "\u001b[1m72/72\u001b[0m \u001b[32m━━━━━━━━━━━━━━━━━━━━\u001b[0m\u001b[37m\u001b[0m \u001b[1m3s\u001b[0m 42ms/step - loss: 0.3650 - precision: 0.9366 - val_loss: 0.3836 - val_precision: 0.9268\n",
      "Epoch 47/50\n",
      "\u001b[1m18/18\u001b[0m \u001b[32m━━━━━━━━━━━━━━━━━━━━\u001b[0m\u001b[37m\u001b[0m \u001b[1m0s\u001b[0m 11ms/step\n",
      "f1_score:0.847\n",
      "\u001b[1m72/72\u001b[0m \u001b[32m━━━━━━━━━━━━━━━━━━━━\u001b[0m\u001b[37m\u001b[0m \u001b[1m3s\u001b[0m 44ms/step - loss: 0.3610 - precision: 0.9329 - val_loss: 0.3644 - val_precision: 0.9442\n",
      "Epoch 48/50\n",
      "\u001b[1m18/18\u001b[0m \u001b[32m━━━━━━━━━━━━━━━━━━━━\u001b[0m\u001b[37m\u001b[0m \u001b[1m0s\u001b[0m 11ms/step\n",
      "f1_score:0.844\n",
      "\u001b[1m72/72\u001b[0m \u001b[32m━━━━━━━━━━━━━━━━━━━━\u001b[0m\u001b[37m\u001b[0m \u001b[1m3s\u001b[0m 42ms/step - loss: 0.3510 - precision: 0.9356 - val_loss: 0.3976 - val_precision: 0.9145\n",
      "Epoch 49/50\n",
      "\u001b[1m18/18\u001b[0m \u001b[32m━━━━━━━━━━━━━━━━━━━━\u001b[0m\u001b[37m\u001b[0m \u001b[1m0s\u001b[0m 11ms/step\n",
      "f1_score:0.8338\n",
      "\u001b[1m72/72\u001b[0m \u001b[32m━━━━━━━━━━━━━━━━━━━━\u001b[0m\u001b[37m\u001b[0m \u001b[1m3s\u001b[0m 42ms/step - loss: 0.3588 - precision: 0.9479 - val_loss: 0.3896 - val_precision: 0.9274\n",
      "Epoch 50/50\n",
      "\u001b[1m18/18\u001b[0m \u001b[32m━━━━━━━━━━━━━━━━━━━━\u001b[0m\u001b[37m\u001b[0m \u001b[1m0s\u001b[0m 11ms/step\n",
      "f1_score:0.828\n",
      "\u001b[1m72/72\u001b[0m \u001b[32m━━━━━━━━━━━━━━━━━━━━\u001b[0m\u001b[37m\u001b[0m \u001b[1m3s\u001b[0m 42ms/step - loss: 0.3559 - precision: 0.9322 - val_loss: 0.3928 - val_precision: 0.9342\n"
     ]
    }
   ],
   "source": [
    "## Training \n",
    "model.compile(loss='categorical_crossentropy', \n",
    "                  optimizer=tf.keras.optimizers.Adam(learning_rate=0.0001), \n",
    "                  metrics=[tf.keras.metrics.Precision()])\n",
    "history= model.fit(X_train, y_train,batch_size=32, epochs=50, validation_data=(X_test, y_test), callbacks= all)"
   ]
  },
  {
   "cell_type": "code",
   "execution_count": 38,
   "id": "d4862f4a",
   "metadata": {
    "execution": {
     "iopub.execute_input": "2025-01-04T15:45:40.874444Z",
     "iopub.status.busy": "2025-01-04T15:45:40.873935Z",
     "iopub.status.idle": "2025-01-04T15:45:40.934719Z",
     "shell.execute_reply": "2025-01-04T15:45:40.933424Z"
    },
    "papermill": {
     "duration": 0.203625,
     "end_time": "2025-01-04T15:45:40.937699",
     "exception": false,
     "start_time": "2025-01-04T15:45:40.734074",
     "status": "completed"
    },
    "tags": []
   },
   "outputs": [],
   "source": [
    "# Sauvegarder le modèle\n",
    "model.save(\"Audio_model.h5\")"
   ]
  },
  {
   "cell_type": "code",
   "execution_count": 39,
   "id": "1351dd8d",
   "metadata": {
    "execution": {
     "iopub.execute_input": "2025-01-04T15:45:41.215241Z",
     "iopub.status.busy": "2025-01-04T15:45:41.214551Z",
     "iopub.status.idle": "2025-01-04T15:45:41.470502Z",
     "shell.execute_reply": "2025-01-04T15:45:41.469421Z"
    },
    "papermill": {
     "duration": 0.395204,
     "end_time": "2025-01-04T15:45:41.472352",
     "exception": false,
     "start_time": "2025-01-04T15:45:41.077148",
     "status": "completed"
    },
    "tags": []
   },
   "outputs": [
    {
     "data": {
      "image/png": "[encoded data removed]",
      "text/plain": [
       "<Figure size 640x480 with 1 Axes>"
      ]
     },
     "metadata": {},
     "output_type": "display_data"
    }
   ],
   "source": [
    "# lets plot the loss (both training and validation) vs epochs\n",
    "import matplotlib.pyplot as plt \n",
    "\n",
    "plt.plot(history.history['loss'])\n",
    "plt.plot(history.history['val_loss'])\n",
    "plt.title('train vs val loss for CNN')\n",
    "plt.ylabel('loss')\n",
    "plt.xlabel('epoch')\n",
    "plt.legend(['train', 'test'])\n",
    "plt.show()"
   ]
  },
  {
   "cell_type": "code",
   "execution_count": 40,
   "id": "c7a9e577",
   "metadata": {
    "execution": {
     "iopub.execute_input": "2025-01-04T15:45:41.755246Z",
     "iopub.status.busy": "2025-01-04T15:45:41.754818Z",
     "iopub.status.idle": "2025-01-04T15:45:42.125609Z",
     "shell.execute_reply": "2025-01-04T15:45:42.124379Z"
    },
    "papermill": {
     "duration": 0.51937,
     "end_time": "2025-01-04T15:45:42.127388",
     "exception": false,
     "start_time": "2025-01-04T15:45:41.608018",
     "status": "completed"
    },
    "tags": []
   },
   "outputs": [
    {
     "name": "stdout",
     "output_type": "stream",
     "text": [
      "\u001b[1m18/18\u001b[0m \u001b[32m━━━━━━━━━━━━━━━━━━━━\u001b[0m\u001b[37m\u001b[0m \u001b[1m0s\u001b[0m 15ms/step\n",
      "              precision    recall  f1-score   support\n",
      "\n",
      "           0       0.97      0.86      0.91       122\n",
      "           1       0.67      0.90      0.77       110\n",
      "           2       0.93      0.80      0.86       101\n",
      "           3       0.81      0.86      0.83       125\n",
      "           4       0.88      0.73      0.80       115\n",
      "\n",
      "    accuracy                           0.83       573\n",
      "   macro avg       0.85      0.83      0.83       573\n",
      "weighted avg       0.85      0.83      0.84       573\n",
      "\n"
     ]
    }
   ],
   "source": [
    "from sklearn.metrics import classification_report\n",
    "import numpy as np\n",
    "y_pred = model.predict(X_test)\n",
    "y_pred_labels = np.argmax(y_pred, axis=1)\n",
    "y_test_labels = np.argmax(y_test, axis=1)\n",
    "report = classification_report(y_test_labels, y_pred_labels)\n",
    "print(report)"
   ]
  },
  {
   "cell_type": "code",
   "execution_count": 41,
   "id": "2128dab6",
   "metadata": {
    "execution": {
     "iopub.execute_input": "2025-01-04T15:45:42.419578Z",
     "iopub.status.busy": "2025-01-04T15:45:42.419189Z",
     "iopub.status.idle": "2025-01-04T15:45:42.575292Z",
     "shell.execute_reply": "2025-01-04T15:45:42.574056Z"
    },
    "papermill": {
     "duration": 0.293983,
     "end_time": "2025-01-04T15:45:42.577183",
     "exception": false,
     "start_time": "2025-01-04T15:45:42.283200",
     "status": "completed"
    },
    "tags": []
   },
   "outputs": [
    {
     "name": "stdout",
     "output_type": "stream",
     "text": [
      "\u001b[1m1/1\u001b[0m \u001b[32m━━━━━━━━━━━━━━━━━━━━\u001b[0m\u001b[37m\u001b[0m \u001b[1m0s\u001b[0m 38ms/step\n",
      "Emotion : happy\n"
     ]
    }
   ],
   "source": [
    "#test sur un audio extistant\n",
    "audio_path = '/kaggle/input/toronto-emotional-speech-set-tess/TESS Toronto emotional speech set data/OAF_happy/OAF_bath_happy.wav'\n",
    "data, sample_rate = librosa.load(audio_path)\n",
    "mel_feature = np.mean(librosa.feature.melspectrogram(y=data, sr=sample_rate).T, axis=0)\n",
    "mfcc_feature = np.mean(librosa.feature.mfcc(y=data, sr=sample_rate, n_mfcc=13).T, axis=0)\n",
    "\n",
    "# Combiner les deux types de caractéristiques\n",
    "features = np.hstack((mel_feature, mfcc_feature))\n",
    "\n",
    "# Mettre à l'échelle les caractéristiques\n",
    "features_scaled = scaler.transform([features])\n",
    "prediction = model.predict(features_scaled)\n",
    "predicted_class = encoder.categories_[0][np.argmax(prediction)]\n",
    "print(f\"Emotion : {predicted_class}\")"
   ]
  }
 ],
 "metadata": {
  "kaggle": {
   "accelerator": "none",
   "dataSources": [
    {
     "datasetId": 107620,
     "sourceId": 256618,
     "sourceType": "datasetVersion"
    },
    {
     "datasetId": 316368,
     "sourceId": 639622,
     "sourceType": "datasetVersion"
    },
    {
     "datasetId": 6144864,
     "isSourceIdPinned": true,
     "sourceId": 9985712,
     "sourceType": "datasetVersion"
    }
   ],
   "dockerImageVersionId": 30822,
   "isGpuEnabled": false,
   "isInternetEnabled": false,
   "language": "python",
   "sourceType": "notebook"
  },
  "kernelspec": {
   "display_name": "Python 3",
   "language": "python",
   "name": "python3"
  },
  "language_info": {
   "codemirror_mode": {
    "name": "ipython",
    "version": 3
   },
   "file_extension": ".py",
   "mimetype": "text/x-python",
   "name": "python",
   "nbconvert_exporter": "python",
   "pygments_lexer": "ipython3",
   "version": "3.10.12"
  },
  "papermill": {
   "default_parameters": {},
   "duration": 303.693709,
   "end_time": "2025-01-04T15:45:44.741669",
   "environment_variables": {},
   "exception": null,
   "input_path": "__notebook__.ipynb",
   "output_path": "__notebook__.ipynb",
   "parameters": {},
   "start_time": "2025-01-04T15:40:41.047960",
   "version": "2.6.0"
  }
 },
 "nbformat": 4,
 "nbformat_minor": 5
}
